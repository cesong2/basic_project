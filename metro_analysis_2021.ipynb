{
  "cells": [
    {
      "cell_type": "markdown",
      "id": "20f6d556",
      "metadata": {
        "id": "20f6d556"
      },
      "source": [
        "* 데이터 수집      \n",
        "  http://data.seoul.go.kr/dataList/OA-12252/S/1/datasetView.do"
      ]
    },
    {
      "cell_type": "code",
      "execution_count": 41,
      "id": "bcef9f87",
      "metadata": {
        "id": "bcef9f87"
      },
      "outputs": [],
      "source": [
        "import pandas as pd\n",
        "import matplotlib.pyplot as plt"
      ]
    },
    {
      "cell_type": "markdown",
      "id": "5b0e4080",
      "metadata": {
        "id": "5b0e4080"
      },
      "source": [
        "# 데이터 확인 및 전처리\n",
        " * 월별, 시간대별, 역별 지하철 승하차정보 데이터이다."
      ]
    },
    {
      "cell_type": "code",
      "execution_count": 4,
      "id": "829f3ab8",
      "metadata": {
        "id": "829f3ab8"
      },
      "outputs": [],
      "source": [
        "df = pd.read_csv('서울시 지하철 호선별 역별 시간대별 승하차 인원 정보.csv', encoding='cp949')"
      ]
    },
    {
      "cell_type": "code",
      "execution_count": null,
      "id": "ba52b75b",
      "metadata": {
        "scrolled": false,
        "id": "ba52b75b"
      },
      "outputs": [],
      "source": [
        "df.head()"
      ]
    },
    {
      "cell_type": "code",
      "execution_count": 6,
      "id": "a2b441ae",
      "metadata": {
        "scrolled": false,
        "id": "a2b441ae",
        "colab": {
          "base_uri": "https://localhost:8080/",
          "height": 542
        },
        "outputId": "5914341c-b690-4d49-f545-cdbb4205363f"
      },
      "outputs": [
        {
          "output_type": "execute_result",
          "data": {
            "text/plain": [
              "          사용월  호선명 지하철역  04시-05시 승차인원  04시-05시 하차인원  05시-06시 승차인원  \\\n",
              "46547  201501  중앙선  운길산             0             0           177   \n",
              "46548  201501  중앙선   원덕             1             0           292   \n",
              "46549  201501  중앙선   중랑            14             1          4929   \n",
              "46550  201501  중앙선   팔당             0             0           161   \n",
              "46551  201501  중앙선   회기           436             3         10929   \n",
              "\n",
              "       05시-06시 하차인원  06시-07시 승차인원  06시-07시 하차인원  07시-08시 승차인원  ...  \\\n",
              "46547            56           642           403          1292  ...   \n",
              "46548             4           415            46           537  ...   \n",
              "46549           424          8539          2084         22160  ...   \n",
              "46550            50           368           149          1227  ...   \n",
              "46551          3067         23317         10430         65043  ...   \n",
              "\n",
              "       23시-24시 하차인원  00시-01시 승차인원  00시-01시 하차인원  01시-02시 승차인원  01시-02시 하차인원  \\\n",
              "46547           633             3           222             0             0   \n",
              "46548           383             3           157             0             0   \n",
              "46549          6501            86          1617             0             0   \n",
              "46550           336             8            85             0             0   \n",
              "46551         35702           767          9314             0             0   \n",
              "\n",
              "       02시-03시 승차인원  02시-03시 하차인원  03시-04시 승차인원  03시-04시 하차인원      작업일자  \n",
              "46547             0             0             0             0  20151223  \n",
              "46548             0             0             0             0  20151223  \n",
              "46549             0             0             0             0  20151223  \n",
              "46550             0             0             0             0  20151223  \n",
              "46551             0             0             0             0  20151223  \n",
              "\n",
              "[5 rows x 52 columns]"
            ],
            "text/html": [
              "\n",
              "  <div id=\"df-bc4a497f-26bd-4b1c-8c16-896a6b38da42\">\n",
              "    <div class=\"colab-df-container\">\n",
              "      <div>\n",
              "<style scoped>\n",
              "    .dataframe tbody tr th:only-of-type {\n",
              "        vertical-align: middle;\n",
              "    }\n",
              "\n",
              "    .dataframe tbody tr th {\n",
              "        vertical-align: top;\n",
              "    }\n",
              "\n",
              "    .dataframe thead th {\n",
              "        text-align: right;\n",
              "    }\n",
              "</style>\n",
              "<table border=\"1\" class=\"dataframe\">\n",
              "  <thead>\n",
              "    <tr style=\"text-align: right;\">\n",
              "      <th></th>\n",
              "      <th>사용월</th>\n",
              "      <th>호선명</th>\n",
              "      <th>지하철역</th>\n",
              "      <th>04시-05시 승차인원</th>\n",
              "      <th>04시-05시 하차인원</th>\n",
              "      <th>05시-06시 승차인원</th>\n",
              "      <th>05시-06시 하차인원</th>\n",
              "      <th>06시-07시 승차인원</th>\n",
              "      <th>06시-07시 하차인원</th>\n",
              "      <th>07시-08시 승차인원</th>\n",
              "      <th>...</th>\n",
              "      <th>23시-24시 하차인원</th>\n",
              "      <th>00시-01시 승차인원</th>\n",
              "      <th>00시-01시 하차인원</th>\n",
              "      <th>01시-02시 승차인원</th>\n",
              "      <th>01시-02시 하차인원</th>\n",
              "      <th>02시-03시 승차인원</th>\n",
              "      <th>02시-03시 하차인원</th>\n",
              "      <th>03시-04시 승차인원</th>\n",
              "      <th>03시-04시 하차인원</th>\n",
              "      <th>작업일자</th>\n",
              "    </tr>\n",
              "  </thead>\n",
              "  <tbody>\n",
              "    <tr>\n",
              "      <th>46547</th>\n",
              "      <td>201501</td>\n",
              "      <td>중앙선</td>\n",
              "      <td>운길산</td>\n",
              "      <td>0</td>\n",
              "      <td>0</td>\n",
              "      <td>177</td>\n",
              "      <td>56</td>\n",
              "      <td>642</td>\n",
              "      <td>403</td>\n",
              "      <td>1292</td>\n",
              "      <td>...</td>\n",
              "      <td>633</td>\n",
              "      <td>3</td>\n",
              "      <td>222</td>\n",
              "      <td>0</td>\n",
              "      <td>0</td>\n",
              "      <td>0</td>\n",
              "      <td>0</td>\n",
              "      <td>0</td>\n",
              "      <td>0</td>\n",
              "      <td>20151223</td>\n",
              "    </tr>\n",
              "    <tr>\n",
              "      <th>46548</th>\n",
              "      <td>201501</td>\n",
              "      <td>중앙선</td>\n",
              "      <td>원덕</td>\n",
              "      <td>1</td>\n",
              "      <td>0</td>\n",
              "      <td>292</td>\n",
              "      <td>4</td>\n",
              "      <td>415</td>\n",
              "      <td>46</td>\n",
              "      <td>537</td>\n",
              "      <td>...</td>\n",
              "      <td>383</td>\n",
              "      <td>3</td>\n",
              "      <td>157</td>\n",
              "      <td>0</td>\n",
              "      <td>0</td>\n",
              "      <td>0</td>\n",
              "      <td>0</td>\n",
              "      <td>0</td>\n",
              "      <td>0</td>\n",
              "      <td>20151223</td>\n",
              "    </tr>\n",
              "    <tr>\n",
              "      <th>46549</th>\n",
              "      <td>201501</td>\n",
              "      <td>중앙선</td>\n",
              "      <td>중랑</td>\n",
              "      <td>14</td>\n",
              "      <td>1</td>\n",
              "      <td>4929</td>\n",
              "      <td>424</td>\n",
              "      <td>8539</td>\n",
              "      <td>2084</td>\n",
              "      <td>22160</td>\n",
              "      <td>...</td>\n",
              "      <td>6501</td>\n",
              "      <td>86</td>\n",
              "      <td>1617</td>\n",
              "      <td>0</td>\n",
              "      <td>0</td>\n",
              "      <td>0</td>\n",
              "      <td>0</td>\n",
              "      <td>0</td>\n",
              "      <td>0</td>\n",
              "      <td>20151223</td>\n",
              "    </tr>\n",
              "    <tr>\n",
              "      <th>46550</th>\n",
              "      <td>201501</td>\n",
              "      <td>중앙선</td>\n",
              "      <td>팔당</td>\n",
              "      <td>0</td>\n",
              "      <td>0</td>\n",
              "      <td>161</td>\n",
              "      <td>50</td>\n",
              "      <td>368</td>\n",
              "      <td>149</td>\n",
              "      <td>1227</td>\n",
              "      <td>...</td>\n",
              "      <td>336</td>\n",
              "      <td>8</td>\n",
              "      <td>85</td>\n",
              "      <td>0</td>\n",
              "      <td>0</td>\n",
              "      <td>0</td>\n",
              "      <td>0</td>\n",
              "      <td>0</td>\n",
              "      <td>0</td>\n",
              "      <td>20151223</td>\n",
              "    </tr>\n",
              "    <tr>\n",
              "      <th>46551</th>\n",
              "      <td>201501</td>\n",
              "      <td>중앙선</td>\n",
              "      <td>회기</td>\n",
              "      <td>436</td>\n",
              "      <td>3</td>\n",
              "      <td>10929</td>\n",
              "      <td>3067</td>\n",
              "      <td>23317</td>\n",
              "      <td>10430</td>\n",
              "      <td>65043</td>\n",
              "      <td>...</td>\n",
              "      <td>35702</td>\n",
              "      <td>767</td>\n",
              "      <td>9314</td>\n",
              "      <td>0</td>\n",
              "      <td>0</td>\n",
              "      <td>0</td>\n",
              "      <td>0</td>\n",
              "      <td>0</td>\n",
              "      <td>0</td>\n",
              "      <td>20151223</td>\n",
              "    </tr>\n",
              "  </tbody>\n",
              "</table>\n",
              "<p>5 rows × 52 columns</p>\n",
              "</div>\n",
              "      <button class=\"colab-df-convert\" onclick=\"convertToInteractive('df-bc4a497f-26bd-4b1c-8c16-896a6b38da42')\"\n",
              "              title=\"Convert this dataframe to an interactive table.\"\n",
              "              style=\"display:none;\">\n",
              "        \n",
              "  <svg xmlns=\"http://www.w3.org/2000/svg\" height=\"24px\"viewBox=\"0 0 24 24\"\n",
              "       width=\"24px\">\n",
              "    <path d=\"M0 0h24v24H0V0z\" fill=\"none\"/>\n",
              "    <path d=\"M18.56 5.44l.94 2.06.94-2.06 2.06-.94-2.06-.94-.94-2.06-.94 2.06-2.06.94zm-11 1L8.5 8.5l.94-2.06 2.06-.94-2.06-.94L8.5 2.5l-.94 2.06-2.06.94zm10 10l.94 2.06.94-2.06 2.06-.94-2.06-.94-.94-2.06-.94 2.06-2.06.94z\"/><path d=\"M17.41 7.96l-1.37-1.37c-.4-.4-.92-.59-1.43-.59-.52 0-1.04.2-1.43.59L10.3 9.45l-7.72 7.72c-.78.78-.78 2.05 0 2.83L4 21.41c.39.39.9.59 1.41.59.51 0 1.02-.2 1.41-.59l7.78-7.78 2.81-2.81c.8-.78.8-2.07 0-2.86zM5.41 20L4 18.59l7.72-7.72 1.47 1.35L5.41 20z\"/>\n",
              "  </svg>\n",
              "      </button>\n",
              "      \n",
              "  <style>\n",
              "    .colab-df-container {\n",
              "      display:flex;\n",
              "      flex-wrap:wrap;\n",
              "      gap: 12px;\n",
              "    }\n",
              "\n",
              "    .colab-df-convert {\n",
              "      background-color: #E8F0FE;\n",
              "      border: none;\n",
              "      border-radius: 50%;\n",
              "      cursor: pointer;\n",
              "      display: none;\n",
              "      fill: #1967D2;\n",
              "      height: 32px;\n",
              "      padding: 0 0 0 0;\n",
              "      width: 32px;\n",
              "    }\n",
              "\n",
              "    .colab-df-convert:hover {\n",
              "      background-color: #E2EBFA;\n",
              "      box-shadow: 0px 1px 2px rgba(60, 64, 67, 0.3), 0px 1px 3px 1px rgba(60, 64, 67, 0.15);\n",
              "      fill: #174EA6;\n",
              "    }\n",
              "\n",
              "    [theme=dark] .colab-df-convert {\n",
              "      background-color: #3B4455;\n",
              "      fill: #D2E3FC;\n",
              "    }\n",
              "\n",
              "    [theme=dark] .colab-df-convert:hover {\n",
              "      background-color: #434B5C;\n",
              "      box-shadow: 0px 1px 3px 1px rgba(0, 0, 0, 0.15);\n",
              "      filter: drop-shadow(0px 1px 2px rgba(0, 0, 0, 0.3));\n",
              "      fill: #FFFFFF;\n",
              "    }\n",
              "  </style>\n",
              "\n",
              "      <script>\n",
              "        const buttonEl =\n",
              "          document.querySelector('#df-bc4a497f-26bd-4b1c-8c16-896a6b38da42 button.colab-df-convert');\n",
              "        buttonEl.style.display =\n",
              "          google.colab.kernel.accessAllowed ? 'block' : 'none';\n",
              "\n",
              "        async function convertToInteractive(key) {\n",
              "          const element = document.querySelector('#df-bc4a497f-26bd-4b1c-8c16-896a6b38da42');\n",
              "          const dataTable =\n",
              "            await google.colab.kernel.invokeFunction('convertToInteractive',\n",
              "                                                     [key], {});\n",
              "          if (!dataTable) return;\n",
              "\n",
              "          const docLinkHtml = 'Like what you see? Visit the ' +\n",
              "            '<a target=\"_blank\" href=https://colab.research.google.com/notebooks/data_table.ipynb>data table notebook</a>'\n",
              "            + ' to learn more about interactive tables.';\n",
              "          element.innerHTML = '';\n",
              "          dataTable['output_type'] = 'display_data';\n",
              "          await google.colab.output.renderOutput(dataTable, element);\n",
              "          const docLink = document.createElement('div');\n",
              "          docLink.innerHTML = docLinkHtml;\n",
              "          element.appendChild(docLink);\n",
              "        }\n",
              "      </script>\n",
              "    </div>\n",
              "  </div>\n",
              "  "
            ]
          },
          "metadata": {},
          "execution_count": 6
        }
      ],
      "source": [
        "df.tail()"
      ]
    },
    {
      "cell_type": "markdown",
      "id": "72465f81",
      "metadata": {
        "id": "72465f81"
      },
      "source": [
        "## 데이터 크기 "
      ]
    },
    {
      "cell_type": "code",
      "execution_count": 7,
      "id": "012a275b",
      "metadata": {
        "scrolled": true,
        "id": "012a275b",
        "colab": {
          "base_uri": "https://localhost:8080/"
        },
        "outputId": "d428e528-04eb-44bf-e109-76ad961803de"
      },
      "outputs": [
        {
          "output_type": "execute_result",
          "data": {
            "text/plain": [
              "(46552, 52)"
            ]
          },
          "metadata": {},
          "execution_count": 7
        }
      ],
      "source": [
        "df.shape"
      ]
    },
    {
      "cell_type": "markdown",
      "id": "4f5acb91",
      "metadata": {
        "id": "4f5acb91"
      },
      "source": [
        "## 결측치 확인"
      ]
    },
    {
      "cell_type": "code",
      "execution_count": null,
      "id": "ea6de7f7",
      "metadata": {
        "id": "ea6de7f7"
      },
      "outputs": [],
      "source": [
        "df.isnull().sum()"
      ]
    },
    {
      "cell_type": "markdown",
      "id": "d2909678",
      "metadata": {
        "id": "d2909678"
      },
      "source": [
        "## 컬럼별 데이터 확인"
      ]
    },
    {
      "cell_type": "code",
      "execution_count": 9,
      "id": "e43119b2",
      "metadata": {
        "scrolled": false,
        "id": "e43119b2",
        "colab": {
          "base_uri": "https://localhost:8080/"
        },
        "outputId": "3138ba16-ad10-4d15-be2a-88ee5ece094b"
      },
      "outputs": [
        {
          "output_type": "execute_result",
          "data": {
            "text/plain": [
              "array([202108, 202107, 202106, 202105, 202104, 202103, 202102, 202101,\n",
              "       202012, 202011, 202010, 202009, 202008, 202007, 202006, 202005,\n",
              "       202004, 202003, 202002, 202001, 201912, 201911, 201910, 201909,\n",
              "       201908, 201907, 201906, 201905, 201904, 201903, 201902, 201901,\n",
              "       201812, 201811, 201810, 201809, 201808, 201807, 201806, 201805,\n",
              "       201804, 201803, 201802, 201801, 201712, 201711, 201710, 201709,\n",
              "       201708, 201707, 201706, 201705, 201704, 201703, 201702, 201701,\n",
              "       201612, 201611, 201610, 201609, 201608, 201607, 201606, 201605,\n",
              "       201604, 201603, 201602, 201601, 201512, 201511, 201510, 201509,\n",
              "       201508, 201507, 201506, 201505, 201504, 201503, 201502, 201501])"
            ]
          },
          "metadata": {},
          "execution_count": 9
        }
      ],
      "source": [
        "# 사용월\n",
        "df['사용월'].unique()"
      ]
    },
    {
      "cell_type": "code",
      "execution_count": 12,
      "id": "cbcef584",
      "metadata": {
        "scrolled": false,
        "id": "cbcef584",
        "colab": {
          "base_uri": "https://localhost:8080/"
        },
        "outputId": "999f21a6-a813-4e4b-cbc0-ab84e6e984ad"
      },
      "outputs": [
        {
          "output_type": "execute_result",
          "data": {
            "text/plain": [
              "array(['1호선', '2호선', '3호선', '4호선', '5호선', '6호선', '7호선', '8호선', '9호선',\n",
              "       '9호선2~3단계', '경강선', '경부선', '경원선', '경의선', '경인선', '경춘선', '공항철도 1호선',\n",
              "       '과천선', '분당선', '수인선', '안산선', '우이신설선', '일산선', '장항선', '중앙선', '9호선2단계'],\n",
              "      dtype=object)"
            ]
          },
          "metadata": {},
          "execution_count": 12
        }
      ],
      "source": [
        "# 호선명\n",
        "df['호선명'].unique()"
      ]
    },
    {
      "cell_type": "markdown",
      "id": "a01084c5",
      "metadata": {
        "id": "a01084c5"
      },
      "source": [
        "## 데이터 타입 확인 및 변경"
      ]
    },
    {
      "cell_type": "code",
      "execution_count": null,
      "id": "ec8315ec",
      "metadata": {
        "scrolled": false,
        "id": "ec8315ec"
      },
      "outputs": [],
      "source": [
        "df.dtypes"
      ]
    },
    {
      "cell_type": "code",
      "execution_count": 15,
      "id": "cc83fdb4",
      "metadata": {
        "id": "cc83fdb4"
      },
      "outputs": [],
      "source": [
        "df['사용월'] = df['사용월'].astype('str')"
      ]
    },
    {
      "cell_type": "code",
      "execution_count": null,
      "id": "dce89dd2",
      "metadata": {
        "id": "dce89dd2"
      },
      "outputs": [],
      "source": [
        "df.dtypes"
      ]
    },
    {
      "cell_type": "markdown",
      "id": "274e06e0",
      "metadata": {
        "id": "274e06e0"
      },
      "source": [
        "## 불필요한 컬럼 삭제"
      ]
    },
    {
      "cell_type": "code",
      "execution_count": 17,
      "id": "10de106e",
      "metadata": {
        "id": "10de106e"
      },
      "outputs": [],
      "source": [
        "df.drop(columns=['작업일자'], inplace=True)"
      ]
    },
    {
      "cell_type": "markdown",
      "id": "fc5a56ba",
      "metadata": {
        "id": "fc5a56ba"
      },
      "source": [
        "## 승차/하차 테이블 분리"
      ]
    },
    {
      "cell_type": "code",
      "source": [
        "df.head(3)"
      ],
      "metadata": {
        "id": "eftKnmGnU8_a"
      },
      "id": "eftKnmGnU8_a",
      "execution_count": null,
      "outputs": []
    },
    {
      "cell_type": "markdown",
      "id": "c418201a",
      "metadata": {
        "id": "c418201a"
      },
      "source": [
        "### 승차 테이블 만들기"
      ]
    },
    {
      "cell_type": "code",
      "source": [
        "df"
      ],
      "metadata": {
        "id": "2IW_FiszV6pQ"
      },
      "id": "2IW_FiszV6pQ",
      "execution_count": null,
      "outputs": []
    },
    {
      "cell_type": "code",
      "source": [
        "# 공통 컬럼\n",
        "df1 = df.iloc[:, :3]"
      ],
      "metadata": {
        "id": "pmZisz4HVVPS"
      },
      "id": "pmZisz4HVVPS",
      "execution_count": null,
      "outputs": []
    },
    {
      "cell_type": "code",
      "execution_count": 23,
      "id": "805c78a1",
      "metadata": {
        "id": "805c78a1"
      },
      "outputs": [],
      "source": [
        "# 승차 컬럼만 가져오기\n",
        "df2 = df.iloc[:, 3::2]\n",
        "df2.columns = df2.columns.str.split(\" \").str[0]"
      ]
    },
    {
      "cell_type": "code",
      "source": [
        "# 공통컬럼과 승차컬럼 연결\n",
        "df_in = pd.concat([df1, df2], axis=1)\n",
        "df_in"
      ],
      "metadata": {
        "id": "Dor-jiRXV1xC"
      },
      "id": "Dor-jiRXV1xC",
      "execution_count": null,
      "outputs": []
    },
    {
      "cell_type": "markdown",
      "id": "cd2bb995",
      "metadata": {
        "id": "cd2bb995"
      },
      "source": [
        "## 하차 테이블 만들기"
      ]
    },
    {
      "cell_type": "code",
      "source": [
        "# 공통 컬럼\n",
        "# df1 = df.iloc[:, :3]"
      ],
      "metadata": {
        "id": "28hwe2wnYD2e"
      },
      "execution_count": null,
      "outputs": [],
      "id": "28hwe2wnYD2e"
    },
    {
      "cell_type": "code",
      "execution_count": 26,
      "metadata": {
        "id": "olitag5CYD2f"
      },
      "outputs": [],
      "source": [
        "# 하차 컬럼만 가져오기\n",
        "df3 = df.iloc[:, 4::2]\n",
        "df3.columns = df3.columns.str.split(\" \").str[0]"
      ],
      "id": "olitag5CYD2f"
    },
    {
      "cell_type": "code",
      "source": [
        "# 공통컬럼과 하차컬럼 연결\n",
        "df_out = pd.concat([df1, df3], axis=1)\n",
        "df_out"
      ],
      "metadata": {
        "colab": {
          "base_uri": "https://localhost:8080/",
          "height": 887
        },
        "id": "T354_n1NYD2g",
        "outputId": "2840aea8-ac61-4dee-d3b4-31f11f48d4e8"
      },
      "execution_count": 27,
      "outputs": [
        {
          "output_type": "execute_result",
          "data": {
            "text/plain": [
              "          사용월  호선명 지하철역  04시-05시  05시-06시  06시-07시  07시-08시  08시-09시  09시-10시  \\\n",
              "0      202108  1호선  동대문       11     1815     5352     9885    19783    19192   \n",
              "1      202108  1호선  동묘앞        3      918     4614     8004    18779    15213   \n",
              "2      202108  1호선  서울역       11     5533    31479    73669   149249    94786   \n",
              "3      202108  1호선   시청        0     4399    17957    53669   141150    60972   \n",
              "4      202108  1호선  신설동        6     2721     9771    21765    52910    28274   \n",
              "...       ...  ...  ...      ...      ...      ...      ...      ...      ...   \n",
              "46547  201501  중앙선  운길산        0       56      403      675     1390     3270   \n",
              "46548  201501  중앙선   원덕        0        4       46      248      344      273   \n",
              "46549  201501  중앙선   중랑        1      424     2084     3027     6573     6133   \n",
              "46550  201501  중앙선   팔당        0       50      149      523     1151     2931   \n",
              "46551  201501  중앙선   회기        3     3067    10430    24473    59383    41911   \n",
              "\n",
              "       10시-11시  ...  18시-19시  19시-20시  20시-21시  21시-22시  22시-23시  23시-24시  \\\n",
              "0        17298  ...    16304    15398    10356     8870     7191     5983   \n",
              "1        17602  ...     9210     5827     3835     3839     3706     1759   \n",
              "2        50691  ...    61655    38909    25080    21490    13638     4968   \n",
              "3        24743  ...    11317     5636     3793     3501     2205      822   \n",
              "4        18729  ...    22904    15802    10231     9428     7268     3747   \n",
              "...        ...  ...      ...      ...      ...      ...      ...      ...   \n",
              "46547     3673  ...     1218     1457      769      760      775      633   \n",
              "46548      497  ...      721      714      612      404      339      383   \n",
              "46549     5605  ...    19547    21424    14362    11678    11060     6501   \n",
              "46550     3932  ...      822      749      320      319      339      336   \n",
              "46551    35003  ...    76039    81870    53481    50706    49658    35702   \n",
              "\n",
              "       00시-01시  01시-02시  02시-03시  03시-04시  \n",
              "0         1043        2        2        0  \n",
              "1          827        0        0        0  \n",
              "2          444        1        0        0  \n",
              "3           72        2        0        0  \n",
              "4          390        0        0        0  \n",
              "...        ...      ...      ...      ...  \n",
              "46547      222        0        0        0  \n",
              "46548      157        0        0        0  \n",
              "46549     1617        0        0        0  \n",
              "46550       85        0        0        0  \n",
              "46551     9314        0        0        0  \n",
              "\n",
              "[46552 rows x 27 columns]"
            ],
            "text/html": [
              "\n",
              "  <div id=\"df-7495ad7f-fb13-4149-9376-39e5672ff0a9\">\n",
              "    <div class=\"colab-df-container\">\n",
              "      <div>\n",
              "<style scoped>\n",
              "    .dataframe tbody tr th:only-of-type {\n",
              "        vertical-align: middle;\n",
              "    }\n",
              "\n",
              "    .dataframe tbody tr th {\n",
              "        vertical-align: top;\n",
              "    }\n",
              "\n",
              "    .dataframe thead th {\n",
              "        text-align: right;\n",
              "    }\n",
              "</style>\n",
              "<table border=\"1\" class=\"dataframe\">\n",
              "  <thead>\n",
              "    <tr style=\"text-align: right;\">\n",
              "      <th></th>\n",
              "      <th>사용월</th>\n",
              "      <th>호선명</th>\n",
              "      <th>지하철역</th>\n",
              "      <th>04시-05시</th>\n",
              "      <th>05시-06시</th>\n",
              "      <th>06시-07시</th>\n",
              "      <th>07시-08시</th>\n",
              "      <th>08시-09시</th>\n",
              "      <th>09시-10시</th>\n",
              "      <th>10시-11시</th>\n",
              "      <th>...</th>\n",
              "      <th>18시-19시</th>\n",
              "      <th>19시-20시</th>\n",
              "      <th>20시-21시</th>\n",
              "      <th>21시-22시</th>\n",
              "      <th>22시-23시</th>\n",
              "      <th>23시-24시</th>\n",
              "      <th>00시-01시</th>\n",
              "      <th>01시-02시</th>\n",
              "      <th>02시-03시</th>\n",
              "      <th>03시-04시</th>\n",
              "    </tr>\n",
              "  </thead>\n",
              "  <tbody>\n",
              "    <tr>\n",
              "      <th>0</th>\n",
              "      <td>202108</td>\n",
              "      <td>1호선</td>\n",
              "      <td>동대문</td>\n",
              "      <td>11</td>\n",
              "      <td>1815</td>\n",
              "      <td>5352</td>\n",
              "      <td>9885</td>\n",
              "      <td>19783</td>\n",
              "      <td>19192</td>\n",
              "      <td>17298</td>\n",
              "      <td>...</td>\n",
              "      <td>16304</td>\n",
              "      <td>15398</td>\n",
              "      <td>10356</td>\n",
              "      <td>8870</td>\n",
              "      <td>7191</td>\n",
              "      <td>5983</td>\n",
              "      <td>1043</td>\n",
              "      <td>2</td>\n",
              "      <td>2</td>\n",
              "      <td>0</td>\n",
              "    </tr>\n",
              "    <tr>\n",
              "      <th>1</th>\n",
              "      <td>202108</td>\n",
              "      <td>1호선</td>\n",
              "      <td>동묘앞</td>\n",
              "      <td>3</td>\n",
              "      <td>918</td>\n",
              "      <td>4614</td>\n",
              "      <td>8004</td>\n",
              "      <td>18779</td>\n",
              "      <td>15213</td>\n",
              "      <td>17602</td>\n",
              "      <td>...</td>\n",
              "      <td>9210</td>\n",
              "      <td>5827</td>\n",
              "      <td>3835</td>\n",
              "      <td>3839</td>\n",
              "      <td>3706</td>\n",
              "      <td>1759</td>\n",
              "      <td>827</td>\n",
              "      <td>0</td>\n",
              "      <td>0</td>\n",
              "      <td>0</td>\n",
              "    </tr>\n",
              "    <tr>\n",
              "      <th>2</th>\n",
              "      <td>202108</td>\n",
              "      <td>1호선</td>\n",
              "      <td>서울역</td>\n",
              "      <td>11</td>\n",
              "      <td>5533</td>\n",
              "      <td>31479</td>\n",
              "      <td>73669</td>\n",
              "      <td>149249</td>\n",
              "      <td>94786</td>\n",
              "      <td>50691</td>\n",
              "      <td>...</td>\n",
              "      <td>61655</td>\n",
              "      <td>38909</td>\n",
              "      <td>25080</td>\n",
              "      <td>21490</td>\n",
              "      <td>13638</td>\n",
              "      <td>4968</td>\n",
              "      <td>444</td>\n",
              "      <td>1</td>\n",
              "      <td>0</td>\n",
              "      <td>0</td>\n",
              "    </tr>\n",
              "    <tr>\n",
              "      <th>3</th>\n",
              "      <td>202108</td>\n",
              "      <td>1호선</td>\n",
              "      <td>시청</td>\n",
              "      <td>0</td>\n",
              "      <td>4399</td>\n",
              "      <td>17957</td>\n",
              "      <td>53669</td>\n",
              "      <td>141150</td>\n",
              "      <td>60972</td>\n",
              "      <td>24743</td>\n",
              "      <td>...</td>\n",
              "      <td>11317</td>\n",
              "      <td>5636</td>\n",
              "      <td>3793</td>\n",
              "      <td>3501</td>\n",
              "      <td>2205</td>\n",
              "      <td>822</td>\n",
              "      <td>72</td>\n",
              "      <td>2</td>\n",
              "      <td>0</td>\n",
              "      <td>0</td>\n",
              "    </tr>\n",
              "    <tr>\n",
              "      <th>4</th>\n",
              "      <td>202108</td>\n",
              "      <td>1호선</td>\n",
              "      <td>신설동</td>\n",
              "      <td>6</td>\n",
              "      <td>2721</td>\n",
              "      <td>9771</td>\n",
              "      <td>21765</td>\n",
              "      <td>52910</td>\n",
              "      <td>28274</td>\n",
              "      <td>18729</td>\n",
              "      <td>...</td>\n",
              "      <td>22904</td>\n",
              "      <td>15802</td>\n",
              "      <td>10231</td>\n",
              "      <td>9428</td>\n",
              "      <td>7268</td>\n",
              "      <td>3747</td>\n",
              "      <td>390</td>\n",
              "      <td>0</td>\n",
              "      <td>0</td>\n",
              "      <td>0</td>\n",
              "    </tr>\n",
              "    <tr>\n",
              "      <th>...</th>\n",
              "      <td>...</td>\n",
              "      <td>...</td>\n",
              "      <td>...</td>\n",
              "      <td>...</td>\n",
              "      <td>...</td>\n",
              "      <td>...</td>\n",
              "      <td>...</td>\n",
              "      <td>...</td>\n",
              "      <td>...</td>\n",
              "      <td>...</td>\n",
              "      <td>...</td>\n",
              "      <td>...</td>\n",
              "      <td>...</td>\n",
              "      <td>...</td>\n",
              "      <td>...</td>\n",
              "      <td>...</td>\n",
              "      <td>...</td>\n",
              "      <td>...</td>\n",
              "      <td>...</td>\n",
              "      <td>...</td>\n",
              "      <td>...</td>\n",
              "    </tr>\n",
              "    <tr>\n",
              "      <th>46547</th>\n",
              "      <td>201501</td>\n",
              "      <td>중앙선</td>\n",
              "      <td>운길산</td>\n",
              "      <td>0</td>\n",
              "      <td>56</td>\n",
              "      <td>403</td>\n",
              "      <td>675</td>\n",
              "      <td>1390</td>\n",
              "      <td>3270</td>\n",
              "      <td>3673</td>\n",
              "      <td>...</td>\n",
              "      <td>1218</td>\n",
              "      <td>1457</td>\n",
              "      <td>769</td>\n",
              "      <td>760</td>\n",
              "      <td>775</td>\n",
              "      <td>633</td>\n",
              "      <td>222</td>\n",
              "      <td>0</td>\n",
              "      <td>0</td>\n",
              "      <td>0</td>\n",
              "    </tr>\n",
              "    <tr>\n",
              "      <th>46548</th>\n",
              "      <td>201501</td>\n",
              "      <td>중앙선</td>\n",
              "      <td>원덕</td>\n",
              "      <td>0</td>\n",
              "      <td>4</td>\n",
              "      <td>46</td>\n",
              "      <td>248</td>\n",
              "      <td>344</td>\n",
              "      <td>273</td>\n",
              "      <td>497</td>\n",
              "      <td>...</td>\n",
              "      <td>721</td>\n",
              "      <td>714</td>\n",
              "      <td>612</td>\n",
              "      <td>404</td>\n",
              "      <td>339</td>\n",
              "      <td>383</td>\n",
              "      <td>157</td>\n",
              "      <td>0</td>\n",
              "      <td>0</td>\n",
              "      <td>0</td>\n",
              "    </tr>\n",
              "    <tr>\n",
              "      <th>46549</th>\n",
              "      <td>201501</td>\n",
              "      <td>중앙선</td>\n",
              "      <td>중랑</td>\n",
              "      <td>1</td>\n",
              "      <td>424</td>\n",
              "      <td>2084</td>\n",
              "      <td>3027</td>\n",
              "      <td>6573</td>\n",
              "      <td>6133</td>\n",
              "      <td>5605</td>\n",
              "      <td>...</td>\n",
              "      <td>19547</td>\n",
              "      <td>21424</td>\n",
              "      <td>14362</td>\n",
              "      <td>11678</td>\n",
              "      <td>11060</td>\n",
              "      <td>6501</td>\n",
              "      <td>1617</td>\n",
              "      <td>0</td>\n",
              "      <td>0</td>\n",
              "      <td>0</td>\n",
              "    </tr>\n",
              "    <tr>\n",
              "      <th>46550</th>\n",
              "      <td>201501</td>\n",
              "      <td>중앙선</td>\n",
              "      <td>팔당</td>\n",
              "      <td>0</td>\n",
              "      <td>50</td>\n",
              "      <td>149</td>\n",
              "      <td>523</td>\n",
              "      <td>1151</td>\n",
              "      <td>2931</td>\n",
              "      <td>3932</td>\n",
              "      <td>...</td>\n",
              "      <td>822</td>\n",
              "      <td>749</td>\n",
              "      <td>320</td>\n",
              "      <td>319</td>\n",
              "      <td>339</td>\n",
              "      <td>336</td>\n",
              "      <td>85</td>\n",
              "      <td>0</td>\n",
              "      <td>0</td>\n",
              "      <td>0</td>\n",
              "    </tr>\n",
              "    <tr>\n",
              "      <th>46551</th>\n",
              "      <td>201501</td>\n",
              "      <td>중앙선</td>\n",
              "      <td>회기</td>\n",
              "      <td>3</td>\n",
              "      <td>3067</td>\n",
              "      <td>10430</td>\n",
              "      <td>24473</td>\n",
              "      <td>59383</td>\n",
              "      <td>41911</td>\n",
              "      <td>35003</td>\n",
              "      <td>...</td>\n",
              "      <td>76039</td>\n",
              "      <td>81870</td>\n",
              "      <td>53481</td>\n",
              "      <td>50706</td>\n",
              "      <td>49658</td>\n",
              "      <td>35702</td>\n",
              "      <td>9314</td>\n",
              "      <td>0</td>\n",
              "      <td>0</td>\n",
              "      <td>0</td>\n",
              "    </tr>\n",
              "  </tbody>\n",
              "</table>\n",
              "<p>46552 rows × 27 columns</p>\n",
              "</div>\n",
              "      <button class=\"colab-df-convert\" onclick=\"convertToInteractive('df-7495ad7f-fb13-4149-9376-39e5672ff0a9')\"\n",
              "              title=\"Convert this dataframe to an interactive table.\"\n",
              "              style=\"display:none;\">\n",
              "        \n",
              "  <svg xmlns=\"http://www.w3.org/2000/svg\" height=\"24px\"viewBox=\"0 0 24 24\"\n",
              "       width=\"24px\">\n",
              "    <path d=\"M0 0h24v24H0V0z\" fill=\"none\"/>\n",
              "    <path d=\"M18.56 5.44l.94 2.06.94-2.06 2.06-.94-2.06-.94-.94-2.06-.94 2.06-2.06.94zm-11 1L8.5 8.5l.94-2.06 2.06-.94-2.06-.94L8.5 2.5l-.94 2.06-2.06.94zm10 10l.94 2.06.94-2.06 2.06-.94-2.06-.94-.94-2.06-.94 2.06-2.06.94z\"/><path d=\"M17.41 7.96l-1.37-1.37c-.4-.4-.92-.59-1.43-.59-.52 0-1.04.2-1.43.59L10.3 9.45l-7.72 7.72c-.78.78-.78 2.05 0 2.83L4 21.41c.39.39.9.59 1.41.59.51 0 1.02-.2 1.41-.59l7.78-7.78 2.81-2.81c.8-.78.8-2.07 0-2.86zM5.41 20L4 18.59l7.72-7.72 1.47 1.35L5.41 20z\"/>\n",
              "  </svg>\n",
              "      </button>\n",
              "      \n",
              "  <style>\n",
              "    .colab-df-container {\n",
              "      display:flex;\n",
              "      flex-wrap:wrap;\n",
              "      gap: 12px;\n",
              "    }\n",
              "\n",
              "    .colab-df-convert {\n",
              "      background-color: #E8F0FE;\n",
              "      border: none;\n",
              "      border-radius: 50%;\n",
              "      cursor: pointer;\n",
              "      display: none;\n",
              "      fill: #1967D2;\n",
              "      height: 32px;\n",
              "      padding: 0 0 0 0;\n",
              "      width: 32px;\n",
              "    }\n",
              "\n",
              "    .colab-df-convert:hover {\n",
              "      background-color: #E2EBFA;\n",
              "      box-shadow: 0px 1px 2px rgba(60, 64, 67, 0.3), 0px 1px 3px 1px rgba(60, 64, 67, 0.15);\n",
              "      fill: #174EA6;\n",
              "    }\n",
              "\n",
              "    [theme=dark] .colab-df-convert {\n",
              "      background-color: #3B4455;\n",
              "      fill: #D2E3FC;\n",
              "    }\n",
              "\n",
              "    [theme=dark] .colab-df-convert:hover {\n",
              "      background-color: #434B5C;\n",
              "      box-shadow: 0px 1px 3px 1px rgba(0, 0, 0, 0.15);\n",
              "      filter: drop-shadow(0px 1px 2px rgba(0, 0, 0, 0.3));\n",
              "      fill: #FFFFFF;\n",
              "    }\n",
              "  </style>\n",
              "\n",
              "      <script>\n",
              "        const buttonEl =\n",
              "          document.querySelector('#df-7495ad7f-fb13-4149-9376-39e5672ff0a9 button.colab-df-convert');\n",
              "        buttonEl.style.display =\n",
              "          google.colab.kernel.accessAllowed ? 'block' : 'none';\n",
              "\n",
              "        async function convertToInteractive(key) {\n",
              "          const element = document.querySelector('#df-7495ad7f-fb13-4149-9376-39e5672ff0a9');\n",
              "          const dataTable =\n",
              "            await google.colab.kernel.invokeFunction('convertToInteractive',\n",
              "                                                     [key], {});\n",
              "          if (!dataTable) return;\n",
              "\n",
              "          const docLinkHtml = 'Like what you see? Visit the ' +\n",
              "            '<a target=\"_blank\" href=https://colab.research.google.com/notebooks/data_table.ipynb>data table notebook</a>'\n",
              "            + ' to learn more about interactive tables.';\n",
              "          element.innerHTML = '';\n",
              "          dataTable['output_type'] = 'display_data';\n",
              "          await google.colab.output.renderOutput(dataTable, element);\n",
              "          const docLink = document.createElement('div');\n",
              "          docLink.innerHTML = docLinkHtml;\n",
              "          element.appendChild(docLink);\n",
              "        }\n",
              "      </script>\n",
              "    </div>\n",
              "  </div>\n",
              "  "
            ]
          },
          "metadata": {},
          "execution_count": 27
        }
      ],
      "id": "T354_n1NYD2g"
    },
    {
      "cell_type": "markdown",
      "id": "46d78b5c",
      "metadata": {
        "id": "46d78b5c"
      },
      "source": [
        "# 출퇴근시간 역별 승하차인원 분석"
      ]
    },
    {
      "cell_type": "markdown",
      "id": "e92f38ee",
      "metadata": {
        "id": "e92f38ee"
      },
      "source": [
        "* 최근 월을 기준으로 한 승하차 데이터프레임 생성"
      ]
    },
    {
      "cell_type": "code",
      "execution_count": 28,
      "id": "4be667c0",
      "metadata": {
        "id": "4be667c0"
      },
      "outputs": [],
      "source": [
        "df_in_202108 = df_in[df_in['사용월'] == '202108']\n",
        "df_out_202108 = df_out[df_out['사용월'] == '202108']"
      ]
    },
    {
      "cell_type": "code",
      "execution_count": null,
      "id": "7518fe2f",
      "metadata": {
        "id": "7518fe2f"
      },
      "outputs": [],
      "source": [
        "df_out_202108"
      ]
    },
    {
      "cell_type": "markdown",
      "id": "8bb757a9",
      "metadata": {
        "id": "8bb757a9"
      },
      "source": [
        "* 출근시간에 가장 많은 사람이 승차하는 역은 어디일까? (08시-09시)"
      ]
    },
    {
      "cell_type": "code",
      "execution_count": 30,
      "id": "572fcdce",
      "metadata": {
        "id": "572fcdce",
        "colab": {
          "base_uri": "https://localhost:8080/",
          "height": 363
        },
        "outputId": "22253eb3-9784-43c8-c183-52c553d81344"
      },
      "outputs": [
        {
          "output_type": "execute_result",
          "data": {
            "text/plain": [
              "            지하철역  08시-09시\n",
              "37            신림   267128\n",
              "14       구로디지털단지   153411\n",
              "28   서울대입구(관악구청)   150090\n",
              "83           연신내   132615\n",
              "133          까치산   130443\n",
              "52      잠실(송파구청)   128005\n",
              "175           화곡   121310\n",
              "112           쌍문   112812\n",
              "36           신도림   111452\n",
              "35           신대방   110766"
            ],
            "text/html": [
              "\n",
              "  <div id=\"df-e04b472b-46fb-4912-b50b-62159b6fb3a0\">\n",
              "    <div class=\"colab-df-container\">\n",
              "      <div>\n",
              "<style scoped>\n",
              "    .dataframe tbody tr th:only-of-type {\n",
              "        vertical-align: middle;\n",
              "    }\n",
              "\n",
              "    .dataframe tbody tr th {\n",
              "        vertical-align: top;\n",
              "    }\n",
              "\n",
              "    .dataframe thead th {\n",
              "        text-align: right;\n",
              "    }\n",
              "</style>\n",
              "<table border=\"1\" class=\"dataframe\">\n",
              "  <thead>\n",
              "    <tr style=\"text-align: right;\">\n",
              "      <th></th>\n",
              "      <th>지하철역</th>\n",
              "      <th>08시-09시</th>\n",
              "    </tr>\n",
              "  </thead>\n",
              "  <tbody>\n",
              "    <tr>\n",
              "      <th>37</th>\n",
              "      <td>신림</td>\n",
              "      <td>267128</td>\n",
              "    </tr>\n",
              "    <tr>\n",
              "      <th>14</th>\n",
              "      <td>구로디지털단지</td>\n",
              "      <td>153411</td>\n",
              "    </tr>\n",
              "    <tr>\n",
              "      <th>28</th>\n",
              "      <td>서울대입구(관악구청)</td>\n",
              "      <td>150090</td>\n",
              "    </tr>\n",
              "    <tr>\n",
              "      <th>83</th>\n",
              "      <td>연신내</td>\n",
              "      <td>132615</td>\n",
              "    </tr>\n",
              "    <tr>\n",
              "      <th>133</th>\n",
              "      <td>까치산</td>\n",
              "      <td>130443</td>\n",
              "    </tr>\n",
              "    <tr>\n",
              "      <th>52</th>\n",
              "      <td>잠실(송파구청)</td>\n",
              "      <td>128005</td>\n",
              "    </tr>\n",
              "    <tr>\n",
              "      <th>175</th>\n",
              "      <td>화곡</td>\n",
              "      <td>121310</td>\n",
              "    </tr>\n",
              "    <tr>\n",
              "      <th>112</th>\n",
              "      <td>쌍문</td>\n",
              "      <td>112812</td>\n",
              "    </tr>\n",
              "    <tr>\n",
              "      <th>36</th>\n",
              "      <td>신도림</td>\n",
              "      <td>111452</td>\n",
              "    </tr>\n",
              "    <tr>\n",
              "      <th>35</th>\n",
              "      <td>신대방</td>\n",
              "      <td>110766</td>\n",
              "    </tr>\n",
              "  </tbody>\n",
              "</table>\n",
              "</div>\n",
              "      <button class=\"colab-df-convert\" onclick=\"convertToInteractive('df-e04b472b-46fb-4912-b50b-62159b6fb3a0')\"\n",
              "              title=\"Convert this dataframe to an interactive table.\"\n",
              "              style=\"display:none;\">\n",
              "        \n",
              "  <svg xmlns=\"http://www.w3.org/2000/svg\" height=\"24px\"viewBox=\"0 0 24 24\"\n",
              "       width=\"24px\">\n",
              "    <path d=\"M0 0h24v24H0V0z\" fill=\"none\"/>\n",
              "    <path d=\"M18.56 5.44l.94 2.06.94-2.06 2.06-.94-2.06-.94-.94-2.06-.94 2.06-2.06.94zm-11 1L8.5 8.5l.94-2.06 2.06-.94-2.06-.94L8.5 2.5l-.94 2.06-2.06.94zm10 10l.94 2.06.94-2.06 2.06-.94-2.06-.94-.94-2.06-.94 2.06-2.06.94z\"/><path d=\"M17.41 7.96l-1.37-1.37c-.4-.4-.92-.59-1.43-.59-.52 0-1.04.2-1.43.59L10.3 9.45l-7.72 7.72c-.78.78-.78 2.05 0 2.83L4 21.41c.39.39.9.59 1.41.59.51 0 1.02-.2 1.41-.59l7.78-7.78 2.81-2.81c.8-.78.8-2.07 0-2.86zM5.41 20L4 18.59l7.72-7.72 1.47 1.35L5.41 20z\"/>\n",
              "  </svg>\n",
              "      </button>\n",
              "      \n",
              "  <style>\n",
              "    .colab-df-container {\n",
              "      display:flex;\n",
              "      flex-wrap:wrap;\n",
              "      gap: 12px;\n",
              "    }\n",
              "\n",
              "    .colab-df-convert {\n",
              "      background-color: #E8F0FE;\n",
              "      border: none;\n",
              "      border-radius: 50%;\n",
              "      cursor: pointer;\n",
              "      display: none;\n",
              "      fill: #1967D2;\n",
              "      height: 32px;\n",
              "      padding: 0 0 0 0;\n",
              "      width: 32px;\n",
              "    }\n",
              "\n",
              "    .colab-df-convert:hover {\n",
              "      background-color: #E2EBFA;\n",
              "      box-shadow: 0px 1px 2px rgba(60, 64, 67, 0.3), 0px 1px 3px 1px rgba(60, 64, 67, 0.15);\n",
              "      fill: #174EA6;\n",
              "    }\n",
              "\n",
              "    [theme=dark] .colab-df-convert {\n",
              "      background-color: #3B4455;\n",
              "      fill: #D2E3FC;\n",
              "    }\n",
              "\n",
              "    [theme=dark] .colab-df-convert:hover {\n",
              "      background-color: #434B5C;\n",
              "      box-shadow: 0px 1px 3px 1px rgba(0, 0, 0, 0.15);\n",
              "      filter: drop-shadow(0px 1px 2px rgba(0, 0, 0, 0.3));\n",
              "      fill: #FFFFFF;\n",
              "    }\n",
              "  </style>\n",
              "\n",
              "      <script>\n",
              "        const buttonEl =\n",
              "          document.querySelector('#df-e04b472b-46fb-4912-b50b-62159b6fb3a0 button.colab-df-convert');\n",
              "        buttonEl.style.display =\n",
              "          google.colab.kernel.accessAllowed ? 'block' : 'none';\n",
              "\n",
              "        async function convertToInteractive(key) {\n",
              "          const element = document.querySelector('#df-e04b472b-46fb-4912-b50b-62159b6fb3a0');\n",
              "          const dataTable =\n",
              "            await google.colab.kernel.invokeFunction('convertToInteractive',\n",
              "                                                     [key], {});\n",
              "          if (!dataTable) return;\n",
              "\n",
              "          const docLinkHtml = 'Like what you see? Visit the ' +\n",
              "            '<a target=\"_blank\" href=https://colab.research.google.com/notebooks/data_table.ipynb>data table notebook</a>'\n",
              "            + ' to learn more about interactive tables.';\n",
              "          element.innerHTML = '';\n",
              "          dataTable['output_type'] = 'display_data';\n",
              "          await google.colab.output.renderOutput(dataTable, element);\n",
              "          const docLink = document.createElement('div');\n",
              "          docLink.innerHTML = docLinkHtml;\n",
              "          element.appendChild(docLink);\n",
              "        }\n",
              "      </script>\n",
              "    </div>\n",
              "  </div>\n",
              "  "
            ]
          },
          "metadata": {},
          "execution_count": 30
        }
      ],
      "source": [
        "df_in_202108.nlargest(10, '08시-09시')[['지하철역', '08시-09시']]"
      ]
    },
    {
      "cell_type": "markdown",
      "id": "308ecebf",
      "metadata": {
        "id": "308ecebf"
      },
      "source": [
        "* 출근시간에 가장 많은 사람이 하차하는 역은 어디일까?(09시-10시)"
      ]
    },
    {
      "cell_type": "code",
      "execution_count": 31,
      "id": "655bc2f5",
      "metadata": {
        "id": "655bc2f5",
        "colab": {
          "base_uri": "https://localhost:8080/",
          "height": 363
        },
        "outputId": "d1f7d9cb-f210-42e1-c83b-367f52430618"
      },
      "outputs": [
        {
          "output_type": "execute_result",
          "data": {
            "text/plain": [
              "           지하철역  09시-10시\n",
              "10           강남   274355\n",
              "43           역삼   226437\n",
              "215     가산디지털단지   188412\n",
              "30           선릉   178766\n",
              "26     삼성(무역센터)   172539\n",
              "80          압구정   139283\n",
              "31           성수   124935\n",
              "78           신사   122905\n",
              "13   교대(법원.검찰청)   121163\n",
              "14      구로디지털단지   121092"
            ],
            "text/html": [
              "\n",
              "  <div id=\"df-bcd1ddcb-1ba4-4207-954d-5683e9ad209d\">\n",
              "    <div class=\"colab-df-container\">\n",
              "      <div>\n",
              "<style scoped>\n",
              "    .dataframe tbody tr th:only-of-type {\n",
              "        vertical-align: middle;\n",
              "    }\n",
              "\n",
              "    .dataframe tbody tr th {\n",
              "        vertical-align: top;\n",
              "    }\n",
              "\n",
              "    .dataframe thead th {\n",
              "        text-align: right;\n",
              "    }\n",
              "</style>\n",
              "<table border=\"1\" class=\"dataframe\">\n",
              "  <thead>\n",
              "    <tr style=\"text-align: right;\">\n",
              "      <th></th>\n",
              "      <th>지하철역</th>\n",
              "      <th>09시-10시</th>\n",
              "    </tr>\n",
              "  </thead>\n",
              "  <tbody>\n",
              "    <tr>\n",
              "      <th>10</th>\n",
              "      <td>강남</td>\n",
              "      <td>274355</td>\n",
              "    </tr>\n",
              "    <tr>\n",
              "      <th>43</th>\n",
              "      <td>역삼</td>\n",
              "      <td>226437</td>\n",
              "    </tr>\n",
              "    <tr>\n",
              "      <th>215</th>\n",
              "      <td>가산디지털단지</td>\n",
              "      <td>188412</td>\n",
              "    </tr>\n",
              "    <tr>\n",
              "      <th>30</th>\n",
              "      <td>선릉</td>\n",
              "      <td>178766</td>\n",
              "    </tr>\n",
              "    <tr>\n",
              "      <th>26</th>\n",
              "      <td>삼성(무역센터)</td>\n",
              "      <td>172539</td>\n",
              "    </tr>\n",
              "    <tr>\n",
              "      <th>80</th>\n",
              "      <td>압구정</td>\n",
              "      <td>139283</td>\n",
              "    </tr>\n",
              "    <tr>\n",
              "      <th>31</th>\n",
              "      <td>성수</td>\n",
              "      <td>124935</td>\n",
              "    </tr>\n",
              "    <tr>\n",
              "      <th>78</th>\n",
              "      <td>신사</td>\n",
              "      <td>122905</td>\n",
              "    </tr>\n",
              "    <tr>\n",
              "      <th>13</th>\n",
              "      <td>교대(법원.검찰청)</td>\n",
              "      <td>121163</td>\n",
              "    </tr>\n",
              "    <tr>\n",
              "      <th>14</th>\n",
              "      <td>구로디지털단지</td>\n",
              "      <td>121092</td>\n",
              "    </tr>\n",
              "  </tbody>\n",
              "</table>\n",
              "</div>\n",
              "      <button class=\"colab-df-convert\" onclick=\"convertToInteractive('df-bcd1ddcb-1ba4-4207-954d-5683e9ad209d')\"\n",
              "              title=\"Convert this dataframe to an interactive table.\"\n",
              "              style=\"display:none;\">\n",
              "        \n",
              "  <svg xmlns=\"http://www.w3.org/2000/svg\" height=\"24px\"viewBox=\"0 0 24 24\"\n",
              "       width=\"24px\">\n",
              "    <path d=\"M0 0h24v24H0V0z\" fill=\"none\"/>\n",
              "    <path d=\"M18.56 5.44l.94 2.06.94-2.06 2.06-.94-2.06-.94-.94-2.06-.94 2.06-2.06.94zm-11 1L8.5 8.5l.94-2.06 2.06-.94-2.06-.94L8.5 2.5l-.94 2.06-2.06.94zm10 10l.94 2.06.94-2.06 2.06-.94-2.06-.94-.94-2.06-.94 2.06-2.06.94z\"/><path d=\"M17.41 7.96l-1.37-1.37c-.4-.4-.92-.59-1.43-.59-.52 0-1.04.2-1.43.59L10.3 9.45l-7.72 7.72c-.78.78-.78 2.05 0 2.83L4 21.41c.39.39.9.59 1.41.59.51 0 1.02-.2 1.41-.59l7.78-7.78 2.81-2.81c.8-.78.8-2.07 0-2.86zM5.41 20L4 18.59l7.72-7.72 1.47 1.35L5.41 20z\"/>\n",
              "  </svg>\n",
              "      </button>\n",
              "      \n",
              "  <style>\n",
              "    .colab-df-container {\n",
              "      display:flex;\n",
              "      flex-wrap:wrap;\n",
              "      gap: 12px;\n",
              "    }\n",
              "\n",
              "    .colab-df-convert {\n",
              "      background-color: #E8F0FE;\n",
              "      border: none;\n",
              "      border-radius: 50%;\n",
              "      cursor: pointer;\n",
              "      display: none;\n",
              "      fill: #1967D2;\n",
              "      height: 32px;\n",
              "      padding: 0 0 0 0;\n",
              "      width: 32px;\n",
              "    }\n",
              "\n",
              "    .colab-df-convert:hover {\n",
              "      background-color: #E2EBFA;\n",
              "      box-shadow: 0px 1px 2px rgba(60, 64, 67, 0.3), 0px 1px 3px 1px rgba(60, 64, 67, 0.15);\n",
              "      fill: #174EA6;\n",
              "    }\n",
              "\n",
              "    [theme=dark] .colab-df-convert {\n",
              "      background-color: #3B4455;\n",
              "      fill: #D2E3FC;\n",
              "    }\n",
              "\n",
              "    [theme=dark] .colab-df-convert:hover {\n",
              "      background-color: #434B5C;\n",
              "      box-shadow: 0px 1px 3px 1px rgba(0, 0, 0, 0.15);\n",
              "      filter: drop-shadow(0px 1px 2px rgba(0, 0, 0, 0.3));\n",
              "      fill: #FFFFFF;\n",
              "    }\n",
              "  </style>\n",
              "\n",
              "      <script>\n",
              "        const buttonEl =\n",
              "          document.querySelector('#df-bcd1ddcb-1ba4-4207-954d-5683e9ad209d button.colab-df-convert');\n",
              "        buttonEl.style.display =\n",
              "          google.colab.kernel.accessAllowed ? 'block' : 'none';\n",
              "\n",
              "        async function convertToInteractive(key) {\n",
              "          const element = document.querySelector('#df-bcd1ddcb-1ba4-4207-954d-5683e9ad209d');\n",
              "          const dataTable =\n",
              "            await google.colab.kernel.invokeFunction('convertToInteractive',\n",
              "                                                     [key], {});\n",
              "          if (!dataTable) return;\n",
              "\n",
              "          const docLinkHtml = 'Like what you see? Visit the ' +\n",
              "            '<a target=\"_blank\" href=https://colab.research.google.com/notebooks/data_table.ipynb>data table notebook</a>'\n",
              "            + ' to learn more about interactive tables.';\n",
              "          element.innerHTML = '';\n",
              "          dataTable['output_type'] = 'display_data';\n",
              "          await google.colab.output.renderOutput(dataTable, element);\n",
              "          const docLink = document.createElement('div');\n",
              "          docLink.innerHTML = docLinkHtml;\n",
              "          element.appendChild(docLink);\n",
              "        }\n",
              "      </script>\n",
              "    </div>\n",
              "  </div>\n",
              "  "
            ]
          },
          "metadata": {},
          "execution_count": 31
        }
      ],
      "source": [
        "df_out_202108.nlargest(10, '09시-10시')[['지하철역', '09시-10시']]"
      ]
    },
    {
      "cell_type": "markdown",
      "id": "47b9d477",
      "metadata": {
        "id": "47b9d477"
      },
      "source": [
        "* 퇴근시간에 가장 많은 사람이 승차하는 역은 어디일까?(18시-19시)"
      ]
    },
    {
      "cell_type": "code",
      "execution_count": null,
      "id": "a24666a1",
      "metadata": {
        "scrolled": false,
        "id": "a24666a1"
      },
      "outputs": [],
      "source": [
        "df_in_202108.nlargest(10, '18시-19시')[['지하철역', '18시-19시']]"
      ]
    },
    {
      "cell_type": "markdown",
      "id": "7b107934",
      "metadata": {
        "id": "7b107934"
      },
      "source": [
        "* 퇴근시간에 가장 많은 사람이 하차하는 역은 어디일까?(19시-20시)"
      ]
    },
    {
      "cell_type": "code",
      "execution_count": 33,
      "id": "1644853c",
      "metadata": {
        "scrolled": true,
        "id": "1644853c",
        "colab": {
          "base_uri": "https://localhost:8080/",
          "height": 363
        },
        "outputId": "ee048afa-793d-48cd-e076-2a2b111c1335"
      },
      "outputs": [
        {
          "output_type": "execute_result",
          "data": {
            "text/plain": [
              "            지하철역  18시-19시\n",
              "37            신림   227563\n",
              "52      잠실(송파구청)   177981\n",
              "28   서울대입구(관악구청)   154764\n",
              "14       구로디지털단지   143783\n",
              "36           신도림   140118\n",
              "59          홍대입구   131248\n",
              "10            강남   125891\n",
              "83           연신내   120138\n",
              "25            사당   119322\n",
              "133          까치산   111753"
            ],
            "text/html": [
              "\n",
              "  <div id=\"df-9d0d9ed3-f54c-4a4d-a31f-0c783a673730\">\n",
              "    <div class=\"colab-df-container\">\n",
              "      <div>\n",
              "<style scoped>\n",
              "    .dataframe tbody tr th:only-of-type {\n",
              "        vertical-align: middle;\n",
              "    }\n",
              "\n",
              "    .dataframe tbody tr th {\n",
              "        vertical-align: top;\n",
              "    }\n",
              "\n",
              "    .dataframe thead th {\n",
              "        text-align: right;\n",
              "    }\n",
              "</style>\n",
              "<table border=\"1\" class=\"dataframe\">\n",
              "  <thead>\n",
              "    <tr style=\"text-align: right;\">\n",
              "      <th></th>\n",
              "      <th>지하철역</th>\n",
              "      <th>18시-19시</th>\n",
              "    </tr>\n",
              "  </thead>\n",
              "  <tbody>\n",
              "    <tr>\n",
              "      <th>37</th>\n",
              "      <td>신림</td>\n",
              "      <td>227563</td>\n",
              "    </tr>\n",
              "    <tr>\n",
              "      <th>52</th>\n",
              "      <td>잠실(송파구청)</td>\n",
              "      <td>177981</td>\n",
              "    </tr>\n",
              "    <tr>\n",
              "      <th>28</th>\n",
              "      <td>서울대입구(관악구청)</td>\n",
              "      <td>154764</td>\n",
              "    </tr>\n",
              "    <tr>\n",
              "      <th>14</th>\n",
              "      <td>구로디지털단지</td>\n",
              "      <td>143783</td>\n",
              "    </tr>\n",
              "    <tr>\n",
              "      <th>36</th>\n",
              "      <td>신도림</td>\n",
              "      <td>140118</td>\n",
              "    </tr>\n",
              "    <tr>\n",
              "      <th>59</th>\n",
              "      <td>홍대입구</td>\n",
              "      <td>131248</td>\n",
              "    </tr>\n",
              "    <tr>\n",
              "      <th>10</th>\n",
              "      <td>강남</td>\n",
              "      <td>125891</td>\n",
              "    </tr>\n",
              "    <tr>\n",
              "      <th>83</th>\n",
              "      <td>연신내</td>\n",
              "      <td>120138</td>\n",
              "    </tr>\n",
              "    <tr>\n",
              "      <th>25</th>\n",
              "      <td>사당</td>\n",
              "      <td>119322</td>\n",
              "    </tr>\n",
              "    <tr>\n",
              "      <th>133</th>\n",
              "      <td>까치산</td>\n",
              "      <td>111753</td>\n",
              "    </tr>\n",
              "  </tbody>\n",
              "</table>\n",
              "</div>\n",
              "      <button class=\"colab-df-convert\" onclick=\"convertToInteractive('df-9d0d9ed3-f54c-4a4d-a31f-0c783a673730')\"\n",
              "              title=\"Convert this dataframe to an interactive table.\"\n",
              "              style=\"display:none;\">\n",
              "        \n",
              "  <svg xmlns=\"http://www.w3.org/2000/svg\" height=\"24px\"viewBox=\"0 0 24 24\"\n",
              "       width=\"24px\">\n",
              "    <path d=\"M0 0h24v24H0V0z\" fill=\"none\"/>\n",
              "    <path d=\"M18.56 5.44l.94 2.06.94-2.06 2.06-.94-2.06-.94-.94-2.06-.94 2.06-2.06.94zm-11 1L8.5 8.5l.94-2.06 2.06-.94-2.06-.94L8.5 2.5l-.94 2.06-2.06.94zm10 10l.94 2.06.94-2.06 2.06-.94-2.06-.94-.94-2.06-.94 2.06-2.06.94z\"/><path d=\"M17.41 7.96l-1.37-1.37c-.4-.4-.92-.59-1.43-.59-.52 0-1.04.2-1.43.59L10.3 9.45l-7.72 7.72c-.78.78-.78 2.05 0 2.83L4 21.41c.39.39.9.59 1.41.59.51 0 1.02-.2 1.41-.59l7.78-7.78 2.81-2.81c.8-.78.8-2.07 0-2.86zM5.41 20L4 18.59l7.72-7.72 1.47 1.35L5.41 20z\"/>\n",
              "  </svg>\n",
              "      </button>\n",
              "      \n",
              "  <style>\n",
              "    .colab-df-container {\n",
              "      display:flex;\n",
              "      flex-wrap:wrap;\n",
              "      gap: 12px;\n",
              "    }\n",
              "\n",
              "    .colab-df-convert {\n",
              "      background-color: #E8F0FE;\n",
              "      border: none;\n",
              "      border-radius: 50%;\n",
              "      cursor: pointer;\n",
              "      display: none;\n",
              "      fill: #1967D2;\n",
              "      height: 32px;\n",
              "      padding: 0 0 0 0;\n",
              "      width: 32px;\n",
              "    }\n",
              "\n",
              "    .colab-df-convert:hover {\n",
              "      background-color: #E2EBFA;\n",
              "      box-shadow: 0px 1px 2px rgba(60, 64, 67, 0.3), 0px 1px 3px 1px rgba(60, 64, 67, 0.15);\n",
              "      fill: #174EA6;\n",
              "    }\n",
              "\n",
              "    [theme=dark] .colab-df-convert {\n",
              "      background-color: #3B4455;\n",
              "      fill: #D2E3FC;\n",
              "    }\n",
              "\n",
              "    [theme=dark] .colab-df-convert:hover {\n",
              "      background-color: #434B5C;\n",
              "      box-shadow: 0px 1px 3px 1px rgba(0, 0, 0, 0.15);\n",
              "      filter: drop-shadow(0px 1px 2px rgba(0, 0, 0, 0.3));\n",
              "      fill: #FFFFFF;\n",
              "    }\n",
              "  </style>\n",
              "\n",
              "      <script>\n",
              "        const buttonEl =\n",
              "          document.querySelector('#df-9d0d9ed3-f54c-4a4d-a31f-0c783a673730 button.colab-df-convert');\n",
              "        buttonEl.style.display =\n",
              "          google.colab.kernel.accessAllowed ? 'block' : 'none';\n",
              "\n",
              "        async function convertToInteractive(key) {\n",
              "          const element = document.querySelector('#df-9d0d9ed3-f54c-4a4d-a31f-0c783a673730');\n",
              "          const dataTable =\n",
              "            await google.colab.kernel.invokeFunction('convertToInteractive',\n",
              "                                                     [key], {});\n",
              "          if (!dataTable) return;\n",
              "\n",
              "          const docLinkHtml = 'Like what you see? Visit the ' +\n",
              "            '<a target=\"_blank\" href=https://colab.research.google.com/notebooks/data_table.ipynb>data table notebook</a>'\n",
              "            + ' to learn more about interactive tables.';\n",
              "          element.innerHTML = '';\n",
              "          dataTable['output_type'] = 'display_data';\n",
              "          await google.colab.output.renderOutput(dataTable, element);\n",
              "          const docLink = document.createElement('div');\n",
              "          docLink.innerHTML = docLinkHtml;\n",
              "          element.appendChild(docLink);\n",
              "        }\n",
              "      </script>\n",
              "    </div>\n",
              "  </div>\n",
              "  "
            ]
          },
          "metadata": {},
          "execution_count": 33
        }
      ],
      "source": [
        "df_out_202108.nlargest(10, '18시-19시')[['지하철역', '18시-19시']]"
      ]
    },
    {
      "cell_type": "markdown",
      "id": "834db46d",
      "metadata": {
        "id": "834db46d"
      },
      "source": [
        "\n",
        "# 강남역의 최근 시간대별 승하차정보 분석"
      ]
    },
    {
      "cell_type": "markdown",
      "id": "fc8ba1a1",
      "metadata": {
        "id": "fc8ba1a1"
      },
      "source": [
        "## 강남역의 최근 승차정보 분석"
      ]
    },
    {
      "cell_type": "code",
      "execution_count": 34,
      "id": "4f0e1d1c",
      "metadata": {
        "scrolled": false,
        "id": "4f0e1d1c"
      },
      "outputs": [],
      "source": [
        "# 강남역의 최근 승차 데이터 불러오기 \n",
        "df_gangnam_in = df_in_202108[df_in_202108['지하철역'] == '강남']"
      ]
    },
    {
      "cell_type": "code",
      "source": [
        "df_gangnam_in = df_in_202108[df_in_202108['지하철역'] == '강남'].iloc[:, 3:]"
      ],
      "metadata": {
        "id": "AOBLF10ukZN-"
      },
      "id": "AOBLF10ukZN-",
      "execution_count": 36,
      "outputs": []
    },
    {
      "cell_type": "code",
      "source": [
        "df_gangnam_in"
      ],
      "metadata": {
        "id": "Dr5PHOq-krEm"
      },
      "id": "Dr5PHOq-krEm",
      "execution_count": null,
      "outputs": []
    },
    {
      "cell_type": "code",
      "execution_count": 38,
      "id": "0e6e110a",
      "metadata": {
        "id": "0e6e110a"
      },
      "outputs": [],
      "source": [
        "# melt\n",
        "df_gangnam_in = df_gangnam_in.melt()"
      ]
    },
    {
      "cell_type": "code",
      "source": [
        "# 컬럼명 변경\n",
        "df_gangnam_in.columns = ['시간대', '승차건수']\n",
        "df_gangnam_in.sort_values('승차건수')"
      ],
      "metadata": {
        "id": "Sq9H_bTYk9rJ"
      },
      "id": "Sq9H_bTYk9rJ",
      "execution_count": null,
      "outputs": []
    },
    {
      "cell_type": "code",
      "execution_count": null,
      "id": "2c244671",
      "metadata": {
        "id": "2c244671"
      },
      "outputs": [],
      "source": [
        "# 시간대별 승차인원 시각화하기\n",
        "plt.figure(figsize=(10,7))\n",
        "plt.barh(df_gangnam_in['시간대'], df_gangnam_in['승차건수'])\n",
        "plt.show()"
      ]
    },
    {
      "cell_type": "markdown",
      "id": "91a87020",
      "metadata": {
        "id": "91a87020"
      },
      "source": [
        "## 강남역의 최근 하차 정보 분석"
      ]
    },
    {
      "cell_type": "code",
      "execution_count": 44,
      "metadata": {
        "scrolled": false,
        "id": "70ikkC3emPWL"
      },
      "outputs": [],
      "source": [
        "# 강남역의 최근 하차 데이터 불러오기 \n",
        "df_gangnam_out = df_out_202108[df_out_202108['지하철역'] == '강남'].iloc[:, 3:]"
      ],
      "id": "70ikkC3emPWL"
    },
    {
      "cell_type": "code",
      "execution_count": 45,
      "metadata": {
        "id": "SzZB-qlPmPWN"
      },
      "outputs": [],
      "source": [
        "# melt\n",
        "df_gangnam_out = df_gangnam_out.melt()"
      ],
      "id": "SzZB-qlPmPWN"
    },
    {
      "cell_type": "code",
      "source": [
        "# 컬럼명 변경\n",
        "df_gangnam_out.columns = ['시간대', '하차건수']\n",
        "df_gangnam_out.sort_values('하차건수')"
      ],
      "metadata": {
        "id": "17uvFlzQmPWN"
      },
      "execution_count": null,
      "outputs": [],
      "id": "17uvFlzQmPWN"
    },
    {
      "cell_type": "code",
      "execution_count": 48,
      "metadata": {
        "colab": {
          "base_uri": "https://localhost:8080/",
          "height": 519
        },
        "id": "iJP5DYKOmPWO",
        "outputId": "c508ae2b-db13-4651-c94f-221a9d887709"
      },
      "outputs": [
        {
          "output_type": "stream",
          "name": "stderr",
          "text": [
            "/usr/local/lib/python3.8/dist-packages/matplotlib/backends/backend_agg.py:214: RuntimeWarning: Glyph 49884 missing from current font.\n",
            "  font.set_text(s, 0.0, flags=flags)\n",
            "/usr/local/lib/python3.8/dist-packages/matplotlib/backends/backend_agg.py:183: RuntimeWarning: Glyph 49884 missing from current font.\n",
            "  font.set_text(s, 0, flags=flags)\n"
          ]
        },
        {
          "output_type": "display_data",
          "data": {
            "text/plain": [
              "<Figure size 720x504 with 1 Axes>"
            ],
            "image/png": "[encoded data removed]"
          },
          "metadata": {
            "needs_background": "light"
          }
        }
      ],
      "source": [
        "# 시간대별 승차인원 시각화하기\n",
        "plt.figure(figsize=(10,7))\n",
        "plt.barh(df_gangnam_out['시간대'], df_gangnam_out['하차건수'])\n",
        "plt.show()"
      ],
      "id": "iJP5DYKOmPWO"
    },
    {
      "cell_type": "markdown",
      "id": "fa07625a",
      "metadata": {
        "id": "fa07625a"
      },
      "source": [
        "# 지하철 시간대별, 역별 이용현황 분석"
      ]
    },
    {
      "cell_type": "markdown",
      "id": "9be619fe",
      "metadata": {
        "id": "9be619fe"
      },
      "source": [
        "## 시간대별 승차 현황"
      ]
    },
    {
      "cell_type": "markdown",
      "id": "0a582c52",
      "metadata": {
        "id": "0a582c52"
      },
      "source": [
        "### 승차정보 집계 데이터 만들기"
      ]
    },
    {
      "cell_type": "code",
      "execution_count": 49,
      "id": "cf0fac29",
      "metadata": {
        "scrolled": false,
        "id": "cf0fac29"
      },
      "outputs": [],
      "source": [
        "# df_in_202108카피하여 사용하기\n",
        "df_in_202108_agg = df_in_202108.copy() "
      ]
    },
    {
      "cell_type": "code",
      "execution_count": null,
      "id": "a97ac5bc",
      "metadata": {
        "id": "a97ac5bc"
      },
      "outputs": [],
      "source": [
        "df_in_202108_agg"
      ]
    },
    {
      "cell_type": "code",
      "execution_count": 52,
      "id": "1d94b55b",
      "metadata": {
        "scrolled": false,
        "id": "1d94b55b"
      },
      "outputs": [],
      "source": [
        "# 인덱스 변경('지하철역')\n",
        "df_in_202108_agg.index = df_in_202108_agg['지하철역']"
      ]
    },
    {
      "cell_type": "code",
      "execution_count": 53,
      "id": "f1ed6098",
      "metadata": {
        "scrolled": false,
        "id": "f1ed6098"
      },
      "outputs": [],
      "source": [
        "# 컬럼 삭제('사용월','호선명','지하철역')\n",
        "df_in_202108_agg.drop(columns=['사용월','호선명','지하철역'], inplace=True)"
      ]
    },
    {
      "cell_type": "code",
      "source": [
        "# 행,열 합계\n",
        "df_in_202108_agg.loc['sum'] = df_in_202108_agg.apply('sum', axis=0)"
      ],
      "metadata": {
        "id": "YeBbVlQInwU1"
      },
      "id": "YeBbVlQInwU1",
      "execution_count": 55,
      "outputs": []
    },
    {
      "cell_type": "code",
      "source": [
        "df_in_202108_agg['sum'] = df_in_202108_agg.apply('sum', axis=1)"
      ],
      "metadata": {
        "id": "4ETPMoGBoHp_"
      },
      "id": "4ETPMoGBoHp_",
      "execution_count": 57,
      "outputs": []
    },
    {
      "cell_type": "code",
      "execution_count": null,
      "id": "8765ffcb",
      "metadata": {
        "scrolled": false,
        "id": "8765ffcb"
      },
      "outputs": [],
      "source": [
        "df_in_202108_agg.head(2)"
      ]
    },
    {
      "cell_type": "markdown",
      "id": "5b89167a",
      "metadata": {
        "id": "5b89167a"
      },
      "source": [
        "### 시간대별 승차건수 "
      ]
    },
    {
      "cell_type": "code",
      "execution_count": 59,
      "id": "a2b31850",
      "metadata": {
        "scrolled": false,
        "id": "a2b31850"
      },
      "outputs": [],
      "source": [
        "s_in = df_in_202108_agg.loc['sum'][:-1].sort_values()"
      ]
    },
    {
      "cell_type": "code",
      "execution_count": null,
      "id": "35988c32",
      "metadata": {
        "id": "35988c32"
      },
      "outputs": [],
      "source": [
        "s_in = s_in.sort_index()\n",
        "s_in"
      ]
    },
    {
      "cell_type": "code",
      "source": [
        "x = s_in.index\n",
        "y = s_in.values\n",
        "plt.bar(x, y)\n",
        "plt.xticks(rotation=90)\n",
        "plt.show()"
      ],
      "metadata": {
        "id": "GMdqTZQKpBCm"
      },
      "id": "GMdqTZQKpBCm",
      "execution_count": null,
      "outputs": []
    },
    {
      "cell_type": "markdown",
      "id": "4dce41ce",
      "metadata": {
        "id": "4dce41ce"
      },
      "source": [
        "### 지하철역별 승차건수"
      ]
    },
    {
      "cell_type": "code",
      "execution_count": null,
      "id": "eca9739e",
      "metadata": {
        "scrolled": false,
        "id": "eca9739e"
      },
      "outputs": [],
      "source": [
        "df_in_202108_agg['sum'][:-1].sort_values(ascending=False).to_frame()"
      ]
    },
    {
      "cell_type": "markdown",
      "id": "5b756f5d",
      "metadata": {
        "id": "5b756f5d"
      },
      "source": [
        "## 시간대별 하차 현황"
      ]
    },
    {
      "cell_type": "markdown",
      "id": "90881a99",
      "metadata": {
        "id": "90881a99"
      },
      "source": [
        "### 하차정보 집계 테이블 만들기"
      ]
    },
    {
      "cell_type": "code",
      "execution_count": 64,
      "id": "d6adab50",
      "metadata": {
        "scrolled": false,
        "id": "d6adab50"
      },
      "outputs": [],
      "source": [
        "# df_out_202108카피하여 사용하기\n",
        "df_out_202108_agg = df_out_202108.copy()"
      ]
    },
    {
      "cell_type": "code",
      "execution_count": 65,
      "id": "9f4e96e3",
      "metadata": {
        "id": "9f4e96e3"
      },
      "outputs": [],
      "source": [
        "# 인덱스 변경('지하철역')\n",
        "df_out_202108_agg.index = df_out_202108_agg['지하철역']"
      ]
    },
    {
      "cell_type": "code",
      "execution_count": 66,
      "id": "a2a51c80",
      "metadata": {
        "id": "a2a51c80"
      },
      "outputs": [],
      "source": [
        "# 컬럼 삭제('사용월','호선명','지하철역')\n",
        "df_out_202108_agg.drop(columns=['사용월','호선명','지하철역'], inplace=True)"
      ]
    },
    {
      "cell_type": "code",
      "execution_count": 67,
      "id": "05409ef1",
      "metadata": {
        "id": "05409ef1"
      },
      "outputs": [],
      "source": [
        "# 행,열 합계\n",
        "df_out_202108_agg.loc['sum'] = df_out_202108_agg.apply('sum', axis=0)\n",
        "df_out_202108_agg['sum'] = df_out_202108_agg.apply('sum', axis=1)"
      ]
    },
    {
      "cell_type": "markdown",
      "id": "edb1f6d8",
      "metadata": {
        "id": "edb1f6d8"
      },
      "source": [
        "### 시간대별 하차 건수"
      ]
    },
    {
      "cell_type": "code",
      "execution_count": null,
      "id": "30b63edd",
      "metadata": {
        "scrolled": false,
        "id": "30b63edd"
      },
      "outputs": [],
      "source": [
        "df_out_202108_agg.loc['sum'].sort_values()"
      ]
    },
    {
      "cell_type": "markdown",
      "id": "74c9f9b3",
      "metadata": {
        "id": "74c9f9b3"
      },
      "source": [
        "### 지하철역별 하차건수"
      ]
    },
    {
      "cell_type": "code",
      "execution_count": 69,
      "id": "8caeb744",
      "metadata": {
        "scrolled": false,
        "id": "8caeb744",
        "colab": {
          "base_uri": "https://localhost:8080/",
          "height": 394
        },
        "outputId": "125ded38-3fca-442f-9fdb-21712d912b6a"
      },
      "outputs": [
        {
          "output_type": "execute_result",
          "data": {
            "text/plain": [
              "                 sum\n",
              "지하철역                \n",
              "강남           1819150\n",
              "잠실(송파구청)     1514327\n",
              "신림           1467939\n",
              "구로디지털단지      1339493\n",
              "홍대입구         1273453\n",
              "역삼           1154897\n",
              "서울대입구(관악구청)  1105337\n",
              "신도림          1082008\n",
              "삼성(무역센터)     1077253\n",
              "선릉           1048553"
            ],
            "text/html": [
              "\n",
              "  <div id=\"df-d2d23fb7-f4ae-4eaf-b9f1-84b0308ed711\">\n",
              "    <div class=\"colab-df-container\">\n",
              "      <div>\n",
              "<style scoped>\n",
              "    .dataframe tbody tr th:only-of-type {\n",
              "        vertical-align: middle;\n",
              "    }\n",
              "\n",
              "    .dataframe tbody tr th {\n",
              "        vertical-align: top;\n",
              "    }\n",
              "\n",
              "    .dataframe thead th {\n",
              "        text-align: right;\n",
              "    }\n",
              "</style>\n",
              "<table border=\"1\" class=\"dataframe\">\n",
              "  <thead>\n",
              "    <tr style=\"text-align: right;\">\n",
              "      <th></th>\n",
              "      <th>sum</th>\n",
              "    </tr>\n",
              "    <tr>\n",
              "      <th>지하철역</th>\n",
              "      <th></th>\n",
              "    </tr>\n",
              "  </thead>\n",
              "  <tbody>\n",
              "    <tr>\n",
              "      <th>강남</th>\n",
              "      <td>1819150</td>\n",
              "    </tr>\n",
              "    <tr>\n",
              "      <th>잠실(송파구청)</th>\n",
              "      <td>1514327</td>\n",
              "    </tr>\n",
              "    <tr>\n",
              "      <th>신림</th>\n",
              "      <td>1467939</td>\n",
              "    </tr>\n",
              "    <tr>\n",
              "      <th>구로디지털단지</th>\n",
              "      <td>1339493</td>\n",
              "    </tr>\n",
              "    <tr>\n",
              "      <th>홍대입구</th>\n",
              "      <td>1273453</td>\n",
              "    </tr>\n",
              "    <tr>\n",
              "      <th>역삼</th>\n",
              "      <td>1154897</td>\n",
              "    </tr>\n",
              "    <tr>\n",
              "      <th>서울대입구(관악구청)</th>\n",
              "      <td>1105337</td>\n",
              "    </tr>\n",
              "    <tr>\n",
              "      <th>신도림</th>\n",
              "      <td>1082008</td>\n",
              "    </tr>\n",
              "    <tr>\n",
              "      <th>삼성(무역센터)</th>\n",
              "      <td>1077253</td>\n",
              "    </tr>\n",
              "    <tr>\n",
              "      <th>선릉</th>\n",
              "      <td>1048553</td>\n",
              "    </tr>\n",
              "  </tbody>\n",
              "</table>\n",
              "</div>\n",
              "      <button class=\"colab-df-convert\" onclick=\"convertToInteractive('df-d2d23fb7-f4ae-4eaf-b9f1-84b0308ed711')\"\n",
              "              title=\"Convert this dataframe to an interactive table.\"\n",
              "              style=\"display:none;\">\n",
              "        \n",
              "  <svg xmlns=\"http://www.w3.org/2000/svg\" height=\"24px\"viewBox=\"0 0 24 24\"\n",
              "       width=\"24px\">\n",
              "    <path d=\"M0 0h24v24H0V0z\" fill=\"none\"/>\n",
              "    <path d=\"M18.56 5.44l.94 2.06.94-2.06 2.06-.94-2.06-.94-.94-2.06-.94 2.06-2.06.94zm-11 1L8.5 8.5l.94-2.06 2.06-.94-2.06-.94L8.5 2.5l-.94 2.06-2.06.94zm10 10l.94 2.06.94-2.06 2.06-.94-2.06-.94-.94-2.06-.94 2.06-2.06.94z\"/><path d=\"M17.41 7.96l-1.37-1.37c-.4-.4-.92-.59-1.43-.59-.52 0-1.04.2-1.43.59L10.3 9.45l-7.72 7.72c-.78.78-.78 2.05 0 2.83L4 21.41c.39.39.9.59 1.41.59.51 0 1.02-.2 1.41-.59l7.78-7.78 2.81-2.81c.8-.78.8-2.07 0-2.86zM5.41 20L4 18.59l7.72-7.72 1.47 1.35L5.41 20z\"/>\n",
              "  </svg>\n",
              "      </button>\n",
              "      \n",
              "  <style>\n",
              "    .colab-df-container {\n",
              "      display:flex;\n",
              "      flex-wrap:wrap;\n",
              "      gap: 12px;\n",
              "    }\n",
              "\n",
              "    .colab-df-convert {\n",
              "      background-color: #E8F0FE;\n",
              "      border: none;\n",
              "      border-radius: 50%;\n",
              "      cursor: pointer;\n",
              "      display: none;\n",
              "      fill: #1967D2;\n",
              "      height: 32px;\n",
              "      padding: 0 0 0 0;\n",
              "      width: 32px;\n",
              "    }\n",
              "\n",
              "    .colab-df-convert:hover {\n",
              "      background-color: #E2EBFA;\n",
              "      box-shadow: 0px 1px 2px rgba(60, 64, 67, 0.3), 0px 1px 3px 1px rgba(60, 64, 67, 0.15);\n",
              "      fill: #174EA6;\n",
              "    }\n",
              "\n",
              "    [theme=dark] .colab-df-convert {\n",
              "      background-color: #3B4455;\n",
              "      fill: #D2E3FC;\n",
              "    }\n",
              "\n",
              "    [theme=dark] .colab-df-convert:hover {\n",
              "      background-color: #434B5C;\n",
              "      box-shadow: 0px 1px 3px 1px rgba(0, 0, 0, 0.15);\n",
              "      filter: drop-shadow(0px 1px 2px rgba(0, 0, 0, 0.3));\n",
              "      fill: #FFFFFF;\n",
              "    }\n",
              "  </style>\n",
              "\n",
              "      <script>\n",
              "        const buttonEl =\n",
              "          document.querySelector('#df-d2d23fb7-f4ae-4eaf-b9f1-84b0308ed711 button.colab-df-convert');\n",
              "        buttonEl.style.display =\n",
              "          google.colab.kernel.accessAllowed ? 'block' : 'none';\n",
              "\n",
              "        async function convertToInteractive(key) {\n",
              "          const element = document.querySelector('#df-d2d23fb7-f4ae-4eaf-b9f1-84b0308ed711');\n",
              "          const dataTable =\n",
              "            await google.colab.kernel.invokeFunction('convertToInteractive',\n",
              "                                                     [key], {});\n",
              "          if (!dataTable) return;\n",
              "\n",
              "          const docLinkHtml = 'Like what you see? Visit the ' +\n",
              "            '<a target=\"_blank\" href=https://colab.research.google.com/notebooks/data_table.ipynb>data table notebook</a>'\n",
              "            + ' to learn more about interactive tables.';\n",
              "          element.innerHTML = '';\n",
              "          dataTable['output_type'] = 'display_data';\n",
              "          await google.colab.output.renderOutput(dataTable, element);\n",
              "          const docLink = document.createElement('div');\n",
              "          docLink.innerHTML = docLinkHtml;\n",
              "          element.appendChild(docLink);\n",
              "        }\n",
              "      </script>\n",
              "    </div>\n",
              "  </div>\n",
              "  "
            ]
          },
          "metadata": {},
          "execution_count": 69
        }
      ],
      "source": [
        "df_out_202108_agg['sum'][:-1].sort_values(ascending=False)[:10].to_frame()"
      ]
    },
    {
      "cell_type": "code",
      "execution_count": null,
      "id": "a0462eb2",
      "metadata": {
        "scrolled": true,
        "id": "a0462eb2"
      },
      "outputs": [],
      "source": []
    }
  ],
  "metadata": {
    "kernelspec": {
      "display_name": "Python 3 (ipykernel)",
      "language": "python",
      "name": "python3"
    },
    "language_info": {
      "codemirror_mode": {
        "name": "ipython",
        "version": 3
      },
      "file_extension": ".py",
      "mimetype": "text/x-python",
      "name": "python",
      "nbconvert_exporter": "python",
      "pygments_lexer": "ipython3",
      "version": "3.8.7"
    },
    "toc": {
      "base_numbering": 1,
      "nav_menu": {},
      "number_sections": true,
      "sideBar": true,
      "skip_h1_title": false,
      "title_cell": "Table of Contents",
      "title_sidebar": "Contents",
      "toc_cell": false,
      "toc_position": {
        "height": "calc(100% - 180px)",
        "left": "10px",
        "top": "150px",
        "width": "307.188px"
      },
      "toc_section_display": true,
      "toc_window_display": true
    },
    "colab": {
      "provenance": []
    }
  },
  "nbformat": 4,
  "nbformat_minor": 5
}