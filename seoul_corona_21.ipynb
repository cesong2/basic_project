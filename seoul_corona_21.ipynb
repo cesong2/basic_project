{
  "nbformat": 4,
  "nbformat_minor": 0,
  "metadata": {
    "colab": {
      "provenance": []
    },
    "kernelspec": {
      "name": "python3",
      "display_name": "Python 3"
    },
    "language_info": {
      "name": "python"
    }
  },
  "cells": [
    {
      "cell_type": "code",
      "source": [
        "!apt-get install -y fonts-nanum > /dev/null\n",
        "!fc-cache -fv > /dev/null\n",
        "!rm -rf ~/.cache/matplotlib\n",
        "# Colab 런타임 다시 시작"
      ],
      "metadata": {
        "id": "HtD_fv-QkGzq"
      },
      "execution_count": 5,
      "outputs": []
    },
    {
      "cell_type": "code",
      "source": [
        "import matplotlib as mpl \n",
        "import matplotlib.pyplot as plt\n",
        "mpl.rcParams['axes.unicode_minus'] = False\n",
        "mpl.rcParams['font.family'] = 'NanumBarunGothic'"
      ],
      "metadata": {
        "id": "wW70BWMMkJop"
      },
      "execution_count": 1,
      "outputs": []
    },
    {
      "cell_type": "markdown",
      "source": [
        "# 데이터 불러오기"
      ],
      "metadata": {
        "id": "ziJoZ_nIkR1E"
      }
    },
    {
      "cell_type": "code",
      "source": [
        "import numpy as np\n",
        "import pandas as pd"
      ],
      "metadata": {
        "id": "qaNajA1wkQ2J"
      },
      "execution_count": 2,
      "outputs": []
    },
    {
      "cell_type": "code",
      "source": [
        "df = pd.read_csv('./서울시 코로나19 확진자 현황.csv', low_memory=False)\n",
        "df"
      ],
      "metadata": {
        "id": "s1_5WJcfkcTB"
      },
      "execution_count": null,
      "outputs": []
    },
    {
      "cell_type": "markdown",
      "source": [
        "# 데이터 확인 및 전처리"
      ],
      "metadata": {
        "id": "Z49m-EmplFjx"
      }
    },
    {
      "cell_type": "markdown",
      "source": [
        "## 컬럼별 데이터 확인"
      ],
      "metadata": {
        "id": "bHvj8FMslIO5"
      }
    },
    {
      "cell_type": "code",
      "source": [
        "df['조치사항'].unique()"
      ],
      "metadata": {
        "id": "fv-V4AC3lEy5"
      },
      "execution_count": null,
      "outputs": []
    },
    {
      "cell_type": "code",
      "source": [
        "df.columns"
      ],
      "metadata": {
        "id": "lfkbUcQFleOh"
      },
      "execution_count": null,
      "outputs": []
    },
    {
      "cell_type": "code",
      "source": [
        "df.isnull().sum()"
      ],
      "metadata": {
        "id": "_jy5yfyhllPZ"
      },
      "execution_count": null,
      "outputs": []
    },
    {
      "cell_type": "markdown",
      "source": [
        "# 불필요한 컬럼 삭제"
      ],
      "metadata": {
        "id": "JL2NNZuHlcZa"
      }
    },
    {
      "cell_type": "code",
      "source": [
        "df.drop(columns =['환자번호', '국적', '환자정보',\n",
        "                  '조치사항', '이동경로', '등록일',\n",
        "                  '수정일', '노출여부'], inplace=True)\n",
        "df"
      ],
      "metadata": {
        "id": "3rntXxwDla_c"
      },
      "execution_count": null,
      "outputs": []
    },
    {
      "cell_type": "code",
      "source": [
        "df.dtypes"
      ],
      "metadata": {
        "colab": {
          "base_uri": "https://localhost:8080/"
        },
        "id": "X7SZ4ebKmd9y",
        "outputId": "e1c51dde-716c-4a94-beec-6ecd3f435121"
      },
      "execution_count": 12,
      "outputs": [
        {
          "output_type": "execute_result",
          "data": {
            "text/plain": [
              "연번      int64\n",
              "확진일    object\n",
              "지역     object\n",
              "여행력    object\n",
              "접촉력    object\n",
              "상태     object\n",
              "dtype: object"
            ]
          },
          "metadata": {},
          "execution_count": 12
        }
      ]
    },
    {
      "cell_type": "code",
      "source": [
        "# 확진일 -> datetime\n",
        "df['확진일'] = pd.to_datetime(df['확진일'])"
      ],
      "metadata": {
        "id": "lveYinh0mgEu"
      },
      "execution_count": 14,
      "outputs": []
    },
    {
      "cell_type": "code",
      "source": [
        "df.dtypes"
      ],
      "metadata": {
        "id": "cSP7Ph_8m1kd"
      },
      "execution_count": null,
      "outputs": []
    },
    {
      "cell_type": "code",
      "source": [
        "#지역의 공백제거\n",
        "df['지역'].nunique()"
      ],
      "metadata": {
        "colab": {
          "base_uri": "https://localhost:8080/"
        },
        "id": "0CgoxfVVm6qb",
        "outputId": "a464e5dc-c377-4394-9edc-fd287cbb8b10"
      },
      "execution_count": 17,
      "outputs": [
        {
          "output_type": "execute_result",
          "data": {
            "text/plain": [
              "29"
            ]
          },
          "metadata": {},
          "execution_count": 17
        }
      ]
    },
    {
      "cell_type": "code",
      "source": [
        "df['지역'].unique()"
      ],
      "metadata": {
        "colab": {
          "base_uri": "https://localhost:8080/"
        },
        "id": "rguTiC6vnNYf",
        "outputId": "12055cd7-d008-4a88-e265-58b1455aff2f"
      },
      "execution_count": 18,
      "outputs": [
        {
          "output_type": "execute_result",
          "data": {
            "text/plain": [
              "array(['기타', '영등포구', '관악구', '서대문구', '송파구', '동대문구', '성동구', '중랑구', '타시도',\n",
              "       '종로구', '도봉구', '용산구', '마포구', '구로구', '동작구', '강동구', '중구', '노원구',\n",
              "       '양천구', '강서구', '은평구', '성북구', '광진구', '금천구', '강북구', '강남구', '서초구',\n",
              "       '타시도 ', ' 성북구'], dtype=object)"
            ]
          },
          "metadata": {},
          "execution_count": 18
        }
      ]
    },
    {
      "cell_type": "code",
      "source": [
        "df['지역'] = df['지역'].str.strip()"
      ],
      "metadata": {
        "id": "5dPvP5FpnhLJ"
      },
      "execution_count": 19,
      "outputs": []
    },
    {
      "cell_type": "code",
      "source": [
        "df['지역'].nunique()"
      ],
      "metadata": {
        "id": "gkXJyiGCn6JX"
      },
      "execution_count": null,
      "outputs": []
    },
    {
      "cell_type": "code",
      "source": [
        "df['지역'].unique()"
      ],
      "metadata": {
        "id": "e-8TNmGbn_wG"
      },
      "execution_count": null,
      "outputs": []
    },
    {
      "cell_type": "code",
      "source": [
        "#지역, 타입을 category로 변경\n",
        "df['지역'] = df['지역'].astype('category')"
      ],
      "metadata": {
        "id": "cHHA_hQjoKFC"
      },
      "execution_count": 22,
      "outputs": []
    },
    {
      "cell_type": "code",
      "source": [
        "df.info()"
      ],
      "metadata": {
        "id": "YVg0Ziljoh_o"
      },
      "execution_count": null,
      "outputs": []
    },
    {
      "cell_type": "markdown",
      "source": [
        "# 구별 확진자 동향\n",
        "확진일 - 구별 확진자수 집계\n",
        "pivotable 만들기"
      ],
      "metadata": {
        "id": "77KzUpz7o2O5"
      }
    },
    {
      "cell_type": "code",
      "source": [
        "df_gu = pd.pivot_table(df, index='확진일', columns='지역',\n",
        "                       values='연번', aggfunc='count',\n",
        "                       margins=True)\n",
        "df_gu"
      ],
      "metadata": {
        "id": "XHXUWFsvoj5h"
      },
      "execution_count": null,
      "outputs": []
    },
    {
      "cell_type": "markdown",
      "source": [
        "## 서울시 일별 추가 확진자 동향"
      ],
      "metadata": {
        "id": "XglX7L3s7kzQ"
      }
    },
    {
      "cell_type": "code",
      "source": [
        "s_date = df_gu['All'][:-1]\n",
        "s_date"
      ],
      "metadata": {
        "id": "w6a7xMI97DJH"
      },
      "execution_count": null,
      "outputs": []
    },
    {
      "cell_type": "code",
      "source": [
        "# 일별 추가 확진자가 많았던 순\n",
        "s_date.sort_values(ascending=False)"
      ],
      "metadata": {
        "id": "j7soDK4O73nf"
      },
      "execution_count": null,
      "outputs": []
    },
    {
      "cell_type": "code",
      "source": [
        "# 서울시 일별 추가 확진자 시각화\n",
        "x = s_date.index\n",
        "y = s_date.values\n",
        "plt.plot(x, y)\n",
        "plt.title('서울시 일별 추가 확진자 시각화')\n",
        "plt.xlabel('확진일')\n",
        "plt.ylabel('확진자수')\n",
        "plt.xticks(rotation=45)\n",
        "plt.show()"
      ],
      "metadata": {
        "colab": {
          "base_uri": "https://localhost:8080/",
          "height": 321
        },
        "id": "SDnlzViA8izV",
        "outputId": "c5828b90-4436-43fc-c9b9-a51240eb9d72"
      },
      "execution_count": 30,
      "outputs": [
        {
          "output_type": "display_data",
          "data": {
            "text/plain": [
              "<Figure size 432x288 with 1 Axes>"
            ],
            "image/png": "[encoded data removed]"
          },
          "metadata": {
            "needs_background": "light"
          }
        }
      ]
    },
    {
      "cell_type": "markdown",
      "source": [
        "## 서울 구별 누적확진자 비교"
      ],
      "metadata": {
        "id": "1hCrX8M3AKU0"
      }
    },
    {
      "cell_type": "code",
      "source": [
        "# 서울시 구별 누적 환진자가 많은 순으로 \n",
        "s_gu = df_gu.loc[\"All\"][:-1]"
      ],
      "metadata": {
        "id": "D53NkamH8oVs"
      },
      "execution_count": 33,
      "outputs": []
    },
    {
      "cell_type": "code",
      "source": [
        "s_gu = s_gu.sort_values(ascending=False)\n",
        "s_gu"
      ],
      "metadata": {
        "id": "3GUgS0EvBMU0"
      },
      "execution_count": null,
      "outputs": []
    },
    {
      "cell_type": "code",
      "source": [
        "# 서울시 구별 누적 확진자 많은순 시각화\n",
        "x = s_gu.index\n",
        "y = s_gu.values\n",
        "plt.figure(figsize=(10,8))\n",
        "plt.barh(x, y)\n",
        "plt.title('서울시 구별 누적확진자수', size= 10)\n",
        "plt.xlabel('확진자수')\n",
        "plt.ylabel('자치구')\n",
        "plt.show()"
      ],
      "metadata": {
        "id": "7KD5JRrnBn1u"
      },
      "execution_count": null,
      "outputs": []
    },
    {
      "cell_type": "markdown",
      "source": [
        "## 접촉력에 따른 확진자수"
      ],
      "metadata": {
        "id": "t87NMbFyCnq8"
      }
    },
    {
      "cell_type": "code",
      "source": [
        "# best10\n",
        "df['접촉력'].value_counts()[:10].to_frame()"
      ],
      "metadata": {
        "id": "kdchXLXMCVDk"
      },
      "execution_count": null,
      "outputs": []
    },
    {
      "cell_type": "markdown",
      "source": [
        "## 최근 월 접촉력에 따른 확진건수 best10\n",
        "* 2021-9"
      ],
      "metadata": {
        "id": "1OVksNwXIG3U"
      }
    },
    {
      "cell_type": "code",
      "source": [
        "# df[#조건21년이면서 9월]['접촉력'].value_counts()[:10].to_frame()\n",
        "# df[(df['확진일'].dt.year == 2021)&(df['확진일'].dt.month == 9)]"
      ],
      "metadata": {
        "id": "9yhhwnMvCkpt"
      },
      "execution_count": null,
      "outputs": []
    },
    {
      "cell_type": "code",
      "source": [
        "df[(df['확진일'].dt.year == 2021)&(df['확진일'].dt.month == 9)]['접촉력'].value_counts()[:10].to_frame()"
      ],
      "metadata": {
        "id": "OSbTcvTGEtyz"
      },
      "execution_count": null,
      "outputs": []
    }
  ]
}