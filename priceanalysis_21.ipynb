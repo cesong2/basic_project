{
  "nbformat": 4,
  "nbformat_minor": 0,
  "metadata": {
    "colab": {
      "provenance": []
    },
    "kernelspec": {
      "name": "python3",
      "display_name": "Python 3"
    },
    "language_info": {
      "name": "python"
    }
  },
  "cells": [
    {
      "cell_type": "code",
      "execution_count": null,
      "metadata": {
        "id": "xWNCyFScObfC"
      },
      "outputs": [],
      "source": []
    },
    {
      "cell_type": "code",
      "source": [
        "!apt-get install -y fonts-nanum > /dev/null\n",
        "!fc-cache -fv > /dev/null\n",
        "!rm -rf ~/.cache/matplotlib\n",
        "# Colab 런타임 다시 시작"
      ],
      "metadata": {
        "id": "HtD_fv-QkGzq"
      },
      "execution_count": 1,
      "outputs": []
    },
    {
      "cell_type": "code",
      "source": [
        "import matplotlib as mpl \n",
        "import matplotlib.pyplot as plt\n",
        "mpl.rcParams['axes.unicode_minus'] = False\n",
        "mpl.rcParams['font.family'] = 'NanumBarunGothic'"
      ],
      "metadata": {
        "id": "wW70BWMMkJop"
      },
      "execution_count": 1,
      "outputs": []
    },
    {
      "cell_type": "markdown",
      "source": [
        "# 데이터프레임 생성"
      ],
      "metadata": {
        "id": "OOGUz_XqPScS"
      }
    },
    {
      "cell_type": "code",
      "source": [
        "import pandas as pd\n",
        "import numpy as np"
      ],
      "metadata": {
        "id": "RwONwsB_Plkk"
      },
      "execution_count": 2,
      "outputs": []
    },
    {
      "cell_type": "code",
      "source": [
        "df = pd.read_csv('./생필품 농수축산물 가격 정보(2021년1월_6월).csv', \n",
        "                 encoding='cp949')"
      ],
      "metadata": {
        "id": "k3O8pHPbPqru"
      },
      "execution_count": 3,
      "outputs": []
    },
    {
      "cell_type": "code",
      "source": [
        "df.head(3)"
      ],
      "metadata": {
        "id": "Es46ZISdP7dR"
      },
      "execution_count": null,
      "outputs": []
    },
    {
      "cell_type": "code",
      "source": [
        "#결측치 확인\n",
        "df.isnull().sum()"
      ],
      "metadata": {
        "id": "nACcbCHBP-Dg"
      },
      "execution_count": null,
      "outputs": []
    },
    {
      "cell_type": "code",
      "source": [
        "#자료형 확인\n",
        "df.dtypes"
      ],
      "metadata": {
        "colab": {
          "base_uri": "https://localhost:8080/"
        },
        "id": "qsXB2JOMW9Ff",
        "outputId": "ac4f6c96-5dec-4149-a0d8-400fd5c41247"
      },
      "execution_count": 10,
      "outputs": [
        {
          "output_type": "execute_result",
          "data": {
            "text/plain": [
              "일련번호                  int64\n",
              "시장/마트 번호              int64\n",
              "시장/마트 이름             object\n",
              "품목 번호                 int64\n",
              "품목 이름                object\n",
              "실판매규격                object\n",
              "가격(원)                 int64\n",
              "년도-월                 object\n",
              "비고                   object\n",
              "시장유형 구분(시장/마트) 코드     int64\n",
              "시장유형 구분(시장/마트) 이름    object\n",
              "자치구 코드                int64\n",
              "자치구 이름               object\n",
              "점검일자                 object\n",
              "dtype: object"
            ]
          },
          "metadata": {},
          "execution_count": 10
        }
      ]
    },
    {
      "cell_type": "code",
      "source": [
        "#자료형태 확인\n",
        "df.shape"
      ],
      "metadata": {
        "colab": {
          "base_uri": "https://localhost:8080/"
        },
        "id": "DjQDmidIQDpI",
        "outputId": "fe03254d-c1e8-434a-f04c-d711b044ae75"
      },
      "execution_count": 9,
      "outputs": [
        {
          "output_type": "execute_result",
          "data": {
            "text/plain": [
              "(42699, 14)"
            ]
          },
          "metadata": {},
          "execution_count": 9
        }
      ]
    },
    {
      "cell_type": "markdown",
      "source": [
        "## 데이터 확인"
      ],
      "metadata": {
        "id": "v8yTjrTcXbHH"
      }
    },
    {
      "cell_type": "code",
      "source": [
        "#컬럼별 데이터 확인 nunique, unique\n",
        "df['시장/마트 이름'].nunique()"
      ],
      "metadata": {
        "colab": {
          "base_uri": "https://localhost:8080/"
        },
        "id": "wsFab19EQRQC",
        "outputId": "fa8867fb-a005-48f5-8cc6-901a803fa6ef"
      },
      "execution_count": 11,
      "outputs": [
        {
          "output_type": "execute_result",
          "data": {
            "text/plain": [
              "102"
            ]
          },
          "metadata": {},
          "execution_count": 11
        }
      ]
    },
    {
      "cell_type": "code",
      "source": [
        "df['시장/마트 이름'].unique()"
      ],
      "metadata": {
        "id": "H67BHu5QXsdn"
      },
      "execution_count": null,
      "outputs": []
    },
    {
      "cell_type": "code",
      "source": [
        "#중복제거 ['시장/마트 이름']\n",
        "# '시장/마트 번호','시장/마트 이름', '자치구 이름', \n",
        "# '시장유형 구분(시장/마트) 이름'] 을 df_market 변수에 넣어주세요\n",
        "df_market = df[['시장/마트 번호','시장/마트 이름',\n",
        "               '자치구 이름',\n",
        "               '시장유형 구분(시장/마트) 이름']].drop_duplicates()"
      ],
      "metadata": {
        "id": "nMzcfR_fX8mX"
      },
      "execution_count": 13,
      "outputs": []
    },
    {
      "cell_type": "code",
      "source": [
        "# 자치구별 시장/마트 갯수\n",
        "df_market['자치구 이름'].value_counts()"
      ],
      "metadata": {
        "id": "WlalI8kuYPmw"
      },
      "execution_count": null,
      "outputs": []
    },
    {
      "cell_type": "code",
      "source": [
        "# df_market[조건]\n",
        "# 조건 = df_market['자치구 이름'] == '중구'\n",
        "df_market[df_market['자치구 이름'] == '중구']"
      ],
      "metadata": {
        "colab": {
          "base_uri": "https://localhost:8080/",
          "height": 238
        },
        "id": "eJLTHAlKQbch",
        "outputId": "37595292-6bc4-40cb-85cc-68e02159871c"
      },
      "execution_count": 17,
      "outputs": [
        {
          "output_type": "execute_result",
          "data": {
            "text/plain": [
              "      시장/마트 번호   시장/마트 이름 자치구 이름 시장유형 구분(시장/마트) 이름\n",
              "0            2     신세계백화점     중구              대형마트\n",
              "21          56      롯데백화점     중구              대형마트\n",
              "257         60    이마트 청계점     중구              대형마트\n",
              "576         11      남대문시장     중구              전통시장\n",
              "3799         8  롯데마트 서울역점     중구              대형마트\n",
              "4920       199     서울중앙시장     중구              전통시장"
            ],
            "text/html": [
              "\n",
              "  <div id=\"df-3c8749f5-0aa4-4977-8b4c-a49d562a0fee\">\n",
              "    <div class=\"colab-df-container\">\n",
              "      <div>\n",
              "<style scoped>\n",
              "    .dataframe tbody tr th:only-of-type {\n",
              "        vertical-align: middle;\n",
              "    }\n",
              "\n",
              "    .dataframe tbody tr th {\n",
              "        vertical-align: top;\n",
              "    }\n",
              "\n",
              "    .dataframe thead th {\n",
              "        text-align: right;\n",
              "    }\n",
              "</style>\n",
              "<table border=\"1\" class=\"dataframe\">\n",
              "  <thead>\n",
              "    <tr style=\"text-align: right;\">\n",
              "      <th></th>\n",
              "      <th>시장/마트 번호</th>\n",
              "      <th>시장/마트 이름</th>\n",
              "      <th>자치구 이름</th>\n",
              "      <th>시장유형 구분(시장/마트) 이름</th>\n",
              "    </tr>\n",
              "  </thead>\n",
              "  <tbody>\n",
              "    <tr>\n",
              "      <th>0</th>\n",
              "      <td>2</td>\n",
              "      <td>신세계백화점</td>\n",
              "      <td>중구</td>\n",
              "      <td>대형마트</td>\n",
              "    </tr>\n",
              "    <tr>\n",
              "      <th>21</th>\n",
              "      <td>56</td>\n",
              "      <td>롯데백화점</td>\n",
              "      <td>중구</td>\n",
              "      <td>대형마트</td>\n",
              "    </tr>\n",
              "    <tr>\n",
              "      <th>257</th>\n",
              "      <td>60</td>\n",
              "      <td>이마트 청계점</td>\n",
              "      <td>중구</td>\n",
              "      <td>대형마트</td>\n",
              "    </tr>\n",
              "    <tr>\n",
              "      <th>576</th>\n",
              "      <td>11</td>\n",
              "      <td>남대문시장</td>\n",
              "      <td>중구</td>\n",
              "      <td>전통시장</td>\n",
              "    </tr>\n",
              "    <tr>\n",
              "      <th>3799</th>\n",
              "      <td>8</td>\n",
              "      <td>롯데마트 서울역점</td>\n",
              "      <td>중구</td>\n",
              "      <td>대형마트</td>\n",
              "    </tr>\n",
              "    <tr>\n",
              "      <th>4920</th>\n",
              "      <td>199</td>\n",
              "      <td>서울중앙시장</td>\n",
              "      <td>중구</td>\n",
              "      <td>전통시장</td>\n",
              "    </tr>\n",
              "  </tbody>\n",
              "</table>\n",
              "</div>\n",
              "      <button class=\"colab-df-convert\" onclick=\"convertToInteractive('df-3c8749f5-0aa4-4977-8b4c-a49d562a0fee')\"\n",
              "              title=\"Convert this dataframe to an interactive table.\"\n",
              "              style=\"display:none;\">\n",
              "        \n",
              "  <svg xmlns=\"http://www.w3.org/2000/svg\" height=\"24px\"viewBox=\"0 0 24 24\"\n",
              "       width=\"24px\">\n",
              "    <path d=\"M0 0h24v24H0V0z\" fill=\"none\"/>\n",
              "    <path d=\"M18.56 5.44l.94 2.06.94-2.06 2.06-.94-2.06-.94-.94-2.06-.94 2.06-2.06.94zm-11 1L8.5 8.5l.94-2.06 2.06-.94-2.06-.94L8.5 2.5l-.94 2.06-2.06.94zm10 10l.94 2.06.94-2.06 2.06-.94-2.06-.94-.94-2.06-.94 2.06-2.06.94z\"/><path d=\"M17.41 7.96l-1.37-1.37c-.4-.4-.92-.59-1.43-.59-.52 0-1.04.2-1.43.59L10.3 9.45l-7.72 7.72c-.78.78-.78 2.05 0 2.83L4 21.41c.39.39.9.59 1.41.59.51 0 1.02-.2 1.41-.59l7.78-7.78 2.81-2.81c.8-.78.8-2.07 0-2.86zM5.41 20L4 18.59l7.72-7.72 1.47 1.35L5.41 20z\"/>\n",
              "  </svg>\n",
              "      </button>\n",
              "      \n",
              "  <style>\n",
              "    .colab-df-container {\n",
              "      display:flex;\n",
              "      flex-wrap:wrap;\n",
              "      gap: 12px;\n",
              "    }\n",
              "\n",
              "    .colab-df-convert {\n",
              "      background-color: #E8F0FE;\n",
              "      border: none;\n",
              "      border-radius: 50%;\n",
              "      cursor: pointer;\n",
              "      display: none;\n",
              "      fill: #1967D2;\n",
              "      height: 32px;\n",
              "      padding: 0 0 0 0;\n",
              "      width: 32px;\n",
              "    }\n",
              "\n",
              "    .colab-df-convert:hover {\n",
              "      background-color: #E2EBFA;\n",
              "      box-shadow: 0px 1px 2px rgba(60, 64, 67, 0.3), 0px 1px 3px 1px rgba(60, 64, 67, 0.15);\n",
              "      fill: #174EA6;\n",
              "    }\n",
              "\n",
              "    [theme=dark] .colab-df-convert {\n",
              "      background-color: #3B4455;\n",
              "      fill: #D2E3FC;\n",
              "    }\n",
              "\n",
              "    [theme=dark] .colab-df-convert:hover {\n",
              "      background-color: #434B5C;\n",
              "      box-shadow: 0px 1px 3px 1px rgba(0, 0, 0, 0.15);\n",
              "      filter: drop-shadow(0px 1px 2px rgba(0, 0, 0, 0.3));\n",
              "      fill: #FFFFFF;\n",
              "    }\n",
              "  </style>\n",
              "\n",
              "      <script>\n",
              "        const buttonEl =\n",
              "          document.querySelector('#df-3c8749f5-0aa4-4977-8b4c-a49d562a0fee button.colab-df-convert');\n",
              "        buttonEl.style.display =\n",
              "          google.colab.kernel.accessAllowed ? 'block' : 'none';\n",
              "\n",
              "        async function convertToInteractive(key) {\n",
              "          const element = document.querySelector('#df-3c8749f5-0aa4-4977-8b4c-a49d562a0fee');\n",
              "          const dataTable =\n",
              "            await google.colab.kernel.invokeFunction('convertToInteractive',\n",
              "                                                     [key], {});\n",
              "          if (!dataTable) return;\n",
              "\n",
              "          const docLinkHtml = 'Like what you see? Visit the ' +\n",
              "            '<a target=\"_blank\" href=https://colab.research.google.com/notebooks/data_table.ipynb>data table notebook</a>'\n",
              "            + ' to learn more about interactive tables.';\n",
              "          element.innerHTML = '';\n",
              "          dataTable['output_type'] = 'display_data';\n",
              "          await google.colab.output.renderOutput(dataTable, element);\n",
              "          const docLink = document.createElement('div');\n",
              "          docLink.innerHTML = docLinkHtml;\n",
              "          element.appendChild(docLink);\n",
              "        }\n",
              "      </script>\n",
              "    </div>\n",
              "  </div>\n",
              "  "
            ]
          },
          "metadata": {},
          "execution_count": 17
        }
      ]
    },
    {
      "cell_type": "code",
      "source": [
        "df.columns"
      ],
      "metadata": {
        "colab": {
          "base_uri": "https://localhost:8080/"
        },
        "id": "8rdmEv9lZz-_",
        "outputId": "df6a1377-7246-4c19-927a-869830f09d21"
      },
      "execution_count": 18,
      "outputs": [
        {
          "output_type": "execute_result",
          "data": {
            "text/plain": [
              "Index(['일련번호', '시장/마트 번호', '시장/마트 이름', '품목 번호', '품목 이름', '실판매규격', '가격(원)',\n",
              "       '년도-월', '비고', '시장유형 구분(시장/마트) 코드', '시장유형 구분(시장/마트) 이름', '자치구 코드',\n",
              "       '자치구 이름', '점검일자'],\n",
              "      dtype='object')"
            ]
          },
          "metadata": {},
          "execution_count": 18
        }
      ]
    },
    {
      "cell_type": "markdown",
      "source": [
        "## 품목 목록"
      ],
      "metadata": {
        "id": "ACiEfFQ7Z7FX"
      }
    },
    {
      "cell_type": "code",
      "source": [
        "# 품목 목록\n",
        "df_items = df[['품목 번호', '품목 이름']].drop_duplicates()"
      ],
      "metadata": {
        "id": "TKupbizzZ1Xw"
      },
      "execution_count": 19,
      "outputs": []
    },
    {
      "cell_type": "code",
      "source": [
        "df_items = df_items.sort_values('품목 이름')"
      ],
      "metadata": {
        "id": "Za-d8kMDaRwB"
      },
      "execution_count": 20,
      "outputs": []
    },
    {
      "cell_type": "code",
      "source": [
        "#품목 이름 30개씩 확인\n",
        "df_items[:30]"
      ],
      "metadata": {
        "id": "_CIa8-vNaaLU"
      },
      "execution_count": null,
      "outputs": []
    },
    {
      "cell_type": "code",
      "source": [
        "df_items[30:60]"
      ],
      "metadata": {
        "id": "UMGp6oTuahQW"
      },
      "execution_count": null,
      "outputs": []
    },
    {
      "cell_type": "code",
      "source": [
        "df_items[60:]"
      ],
      "metadata": {
        "id": "m46-luoSauzW"
      },
      "execution_count": null,
      "outputs": []
    },
    {
      "cell_type": "code",
      "source": [
        "df_items.shape"
      ],
      "metadata": {
        "colab": {
          "base_uri": "https://localhost:8080/"
        },
        "id": "rK3j1tnra2KI",
        "outputId": "cacae326-453e-4478-e65a-44807f90ff2b"
      },
      "execution_count": 24,
      "outputs": [
        {
          "output_type": "execute_result",
          "data": {
            "text/plain": [
              "(81, 2)"
            ]
          },
          "metadata": {},
          "execution_count": 24
        }
      ]
    },
    {
      "cell_type": "markdown",
      "source": [
        "## 자치구 목록"
      ],
      "metadata": {
        "id": "tOHGdWrbbIBv"
      }
    },
    {
      "cell_type": "code",
      "source": [
        "df_gu = df[['자치구 코드', '자치구 이름']].drop_duplicates()\n",
        "df_gu.shape"
      ],
      "metadata": {
        "colab": {
          "base_uri": "https://localhost:8080/"
        },
        "id": "JBrzBfoua9Kr",
        "outputId": "251d8c18-1426-4a2e-a0ce-4a37bec1c3b8"
      },
      "execution_count": 26,
      "outputs": [
        {
          "output_type": "execute_result",
          "data": {
            "text/plain": [
              "(25, 2)"
            ]
          },
          "metadata": {},
          "execution_count": 26
        }
      ]
    },
    {
      "cell_type": "code",
      "source": [
        "#시장 유형\n",
        "df_gubun = df[['시장유형 구분(시장/마트) 코드', '시장유형 구분(시장/마트) 이름']].drop_duplicates()"
      ],
      "metadata": {
        "id": "8yN6epQ7b1hv"
      },
      "execution_count": 28,
      "outputs": []
    },
    {
      "cell_type": "code",
      "source": [
        "df_gubun"
      ],
      "metadata": {
        "colab": {
          "base_uri": "https://localhost:8080/",
          "height": 112
        },
        "id": "r_WAaDYvcSOH",
        "outputId": "f181d39e-912a-441e-c2b2-7aadfae27808"
      },
      "execution_count": 29,
      "outputs": [
        {
          "output_type": "execute_result",
          "data": {
            "text/plain": [
              "   시장유형 구분(시장/마트) 코드 시장유형 구분(시장/마트) 이름\n",
              "0                  2              대형마트\n",
              "1                  1              전통시장"
            ],
            "text/html": [
              "\n",
              "  <div id=\"df-f876b87d-329a-494d-b7c3-76bd3f9309c2\">\n",
              "    <div class=\"colab-df-container\">\n",
              "      <div>\n",
              "<style scoped>\n",
              "    .dataframe tbody tr th:only-of-type {\n",
              "        vertical-align: middle;\n",
              "    }\n",
              "\n",
              "    .dataframe tbody tr th {\n",
              "        vertical-align: top;\n",
              "    }\n",
              "\n",
              "    .dataframe thead th {\n",
              "        text-align: right;\n",
              "    }\n",
              "</style>\n",
              "<table border=\"1\" class=\"dataframe\">\n",
              "  <thead>\n",
              "    <tr style=\"text-align: right;\">\n",
              "      <th></th>\n",
              "      <th>시장유형 구분(시장/마트) 코드</th>\n",
              "      <th>시장유형 구분(시장/마트) 이름</th>\n",
              "    </tr>\n",
              "  </thead>\n",
              "  <tbody>\n",
              "    <tr>\n",
              "      <th>0</th>\n",
              "      <td>2</td>\n",
              "      <td>대형마트</td>\n",
              "    </tr>\n",
              "    <tr>\n",
              "      <th>1</th>\n",
              "      <td>1</td>\n",
              "      <td>전통시장</td>\n",
              "    </tr>\n",
              "  </tbody>\n",
              "</table>\n",
              "</div>\n",
              "      <button class=\"colab-df-convert\" onclick=\"convertToInteractive('df-f876b87d-329a-494d-b7c3-76bd3f9309c2')\"\n",
              "              title=\"Convert this dataframe to an interactive table.\"\n",
              "              style=\"display:none;\">\n",
              "        \n",
              "  <svg xmlns=\"http://www.w3.org/2000/svg\" height=\"24px\"viewBox=\"0 0 24 24\"\n",
              "       width=\"24px\">\n",
              "    <path d=\"M0 0h24v24H0V0z\" fill=\"none\"/>\n",
              "    <path d=\"M18.56 5.44l.94 2.06.94-2.06 2.06-.94-2.06-.94-.94-2.06-.94 2.06-2.06.94zm-11 1L8.5 8.5l.94-2.06 2.06-.94-2.06-.94L8.5 2.5l-.94 2.06-2.06.94zm10 10l.94 2.06.94-2.06 2.06-.94-2.06-.94-.94-2.06-.94 2.06-2.06.94z\"/><path d=\"M17.41 7.96l-1.37-1.37c-.4-.4-.92-.59-1.43-.59-.52 0-1.04.2-1.43.59L10.3 9.45l-7.72 7.72c-.78.78-.78 2.05 0 2.83L4 21.41c.39.39.9.59 1.41.59.51 0 1.02-.2 1.41-.59l7.78-7.78 2.81-2.81c.8-.78.8-2.07 0-2.86zM5.41 20L4 18.59l7.72-7.72 1.47 1.35L5.41 20z\"/>\n",
              "  </svg>\n",
              "      </button>\n",
              "      \n",
              "  <style>\n",
              "    .colab-df-container {\n",
              "      display:flex;\n",
              "      flex-wrap:wrap;\n",
              "      gap: 12px;\n",
              "    }\n",
              "\n",
              "    .colab-df-convert {\n",
              "      background-color: #E8F0FE;\n",
              "      border: none;\n",
              "      border-radius: 50%;\n",
              "      cursor: pointer;\n",
              "      display: none;\n",
              "      fill: #1967D2;\n",
              "      height: 32px;\n",
              "      padding: 0 0 0 0;\n",
              "      width: 32px;\n",
              "    }\n",
              "\n",
              "    .colab-df-convert:hover {\n",
              "      background-color: #E2EBFA;\n",
              "      box-shadow: 0px 1px 2px rgba(60, 64, 67, 0.3), 0px 1px 3px 1px rgba(60, 64, 67, 0.15);\n",
              "      fill: #174EA6;\n",
              "    }\n",
              "\n",
              "    [theme=dark] .colab-df-convert {\n",
              "      background-color: #3B4455;\n",
              "      fill: #D2E3FC;\n",
              "    }\n",
              "\n",
              "    [theme=dark] .colab-df-convert:hover {\n",
              "      background-color: #434B5C;\n",
              "      box-shadow: 0px 1px 3px 1px rgba(0, 0, 0, 0.15);\n",
              "      filter: drop-shadow(0px 1px 2px rgba(0, 0, 0, 0.3));\n",
              "      fill: #FFFFFF;\n",
              "    }\n",
              "  </style>\n",
              "\n",
              "      <script>\n",
              "        const buttonEl =\n",
              "          document.querySelector('#df-f876b87d-329a-494d-b7c3-76bd3f9309c2 button.colab-df-convert');\n",
              "        buttonEl.style.display =\n",
              "          google.colab.kernel.accessAllowed ? 'block' : 'none';\n",
              "\n",
              "        async function convertToInteractive(key) {\n",
              "          const element = document.querySelector('#df-f876b87d-329a-494d-b7c3-76bd3f9309c2');\n",
              "          const dataTable =\n",
              "            await google.colab.kernel.invokeFunction('convertToInteractive',\n",
              "                                                     [key], {});\n",
              "          if (!dataTable) return;\n",
              "\n",
              "          const docLinkHtml = 'Like what you see? Visit the ' +\n",
              "            '<a target=\"_blank\" href=https://colab.research.google.com/notebooks/data_table.ipynb>data table notebook</a>'\n",
              "            + ' to learn more about interactive tables.';\n",
              "          element.innerHTML = '';\n",
              "          dataTable['output_type'] = 'display_data';\n",
              "          await google.colab.output.renderOutput(dataTable, element);\n",
              "          const docLink = document.createElement('div');\n",
              "          docLink.innerHTML = docLinkHtml;\n",
              "          element.appendChild(docLink);\n",
              "        }\n",
              "      </script>\n",
              "    </div>\n",
              "  </div>\n",
              "  "
            ]
          },
          "metadata": {},
          "execution_count": 29
        }
      ]
    },
    {
      "cell_type": "code",
      "source": [
        "df.columns"
      ],
      "metadata": {
        "id": "7nU2J4bgbSDf"
      },
      "execution_count": null,
      "outputs": []
    },
    {
      "cell_type": "markdown",
      "source": [
        "# 삼겹살 가격을 분석\n",
        "삼겹살 데이터\n",
        "* 특정 문자열이 포함되어 있는지 확인 : str.contains(문자열)"
      ],
      "metadata": {
        "id": "JcSlW6g3chf4"
      }
    },
    {
      "cell_type": "code",
      "source": [
        "#2021-6 의 데이터를 이용하여 삼겹살데이터를 뽑아보세요 600g\n",
        "df_sam = df[(df['품목 이름'].str.contains('삼겹살')) \n",
        "             & (df['년도-월'] == '2021-06') \n",
        "             & (df['실판매규격'].str.contains('600g'))]\n",
        "# 조건 => (품목이름 == 삼겹살) & (년도 == '2021-06') & 실판매규격 == 600g"
      ],
      "metadata": {
        "id": "f8oAGPNNbdA0"
      },
      "execution_count": 32,
      "outputs": []
    },
    {
      "cell_type": "code",
      "source": [
        "df_sam.shape"
      ],
      "metadata": {
        "colab": {
          "base_uri": "https://localhost:8080/"
        },
        "id": "E8GsiPbyhQ12",
        "outputId": "db037c8f-be6b-4cbb-8cf0-3782a5f0e125"
      },
      "execution_count": 34,
      "outputs": [
        {
          "output_type": "execute_result",
          "data": {
            "text/plain": [
              "(224, 14)"
            ]
          },
          "metadata": {},
          "execution_count": 34
        }
      ]
    },
    {
      "cell_type": "code",
      "source": [
        "# 평균 600g 가격\n",
        "df_sam['가격(원)'].mean()"
      ],
      "metadata": {
        "colab": {
          "base_uri": "https://localhost:8080/"
        },
        "id": "ipLR7S6wdZBf",
        "outputId": "740dac55-f804-49a6-8ee9-02c10d57c8ee"
      },
      "execution_count": 35,
      "outputs": [
        {
          "output_type": "execute_result",
          "data": {
            "text/plain": [
              "16842.723214285714"
            ]
          },
          "metadata": {},
          "execution_count": 35
        }
      ]
    },
    {
      "cell_type": "code",
      "source": [
        "# 최고가 ,\n",
        "df_sam['가격(원)'].max()"
      ],
      "metadata": {
        "colab": {
          "base_uri": "https://localhost:8080/"
        },
        "id": "L7z__9oMkenJ",
        "outputId": "07e6c8cf-a89d-4824-9469-947fc8524f4a"
      },
      "execution_count": 36,
      "outputs": [
        {
          "output_type": "execute_result",
          "data": {
            "text/plain": [
              "35890"
            ]
          },
          "metadata": {},
          "execution_count": 36
        }
      ]
    },
    {
      "cell_type": "code",
      "source": [
        "# 최저가 \n",
        "df_sam['가격(원)'].min()"
      ],
      "metadata": {
        "colab": {
          "base_uri": "https://localhost:8080/"
        },
        "id": "vzlthTkskuXY",
        "outputId": "1074cc7b-6ea0-49f4-fcda-3ff01d7dd693"
      },
      "execution_count": 37,
      "outputs": [
        {
          "output_type": "execute_result",
          "data": {
            "text/plain": [
              "1690"
            ]
          },
          "metadata": {},
          "execution_count": 37
        }
      ]
    },
    {
      "cell_type": "code",
      "source": [
        "# 5000천원 이하인 곳의 데이터를 추출\n",
        "df_sam[df_sam['가격(원)'] < 5000]"
      ],
      "metadata": {
        "id": "ZWtR01-vk0dE"
      },
      "execution_count": null,
      "outputs": []
    },
    {
      "cell_type": "code",
      "source": [
        "df_sam[df_sam['가격(원)'] < 5000].shape"
      ],
      "metadata": {
        "colab": {
          "base_uri": "https://localhost:8080/"
        },
        "id": "QtGPmBM0lLK1",
        "outputId": "33895ae9-18a9-479b-90bb-6ac9d6eb3c70"
      },
      "execution_count": 39,
      "outputs": [
        {
          "output_type": "execute_result",
          "data": {
            "text/plain": [
              "(2, 14)"
            ]
          },
          "metadata": {},
          "execution_count": 39
        }
      ]
    },
    {
      "cell_type": "markdown",
      "source": [
        "우리동네 삼겹살 가격"
      ],
      "metadata": {
        "id": "IlPVM6CmlVhf"
      }
    },
    {
      "cell_type": "code",
      "source": [
        "gu = input('구이름 : ')"
      ],
      "metadata": {
        "colab": {
          "base_uri": "https://localhost:8080/"
        },
        "id": "VLzABHutpVqc",
        "outputId": "74deef1f-53a6-46e4-eeee-3a1222ca5aed"
      },
      "execution_count": 45,
      "outputs": [
        {
          "name": "stdout",
          "output_type": "stream",
          "text": [
            "구이름 : 관악구\n"
          ]
        }
      ]
    },
    {
      "cell_type": "code",
      "source": [
        "# 우리 구 삼겹살 가격\n",
        "# df_sam_gu = df_sam[조건1][조건2].drop_duplicates()\n",
        "# 조건1 = df_sam['자치구 이름'] == gu\n",
        "# 조건2 = ['시장/마트 이름', '품목 이름', '실판매규격', '가격(원)']\n",
        "df_sam_gu = df_sam[df_sam['자치구 이름'] == gu][['시장/마트 이름', '품목 이름', '실판매규격', '가격(원)']].drop_duplicates()"
      ],
      "metadata": {
        "id": "orFa6MPylNjE"
      },
      "execution_count": 46,
      "outputs": []
    },
    {
      "cell_type": "code",
      "source": [
        "df_sam_gu"
      ],
      "metadata": {
        "id": "wnEMK1LkqSvT"
      },
      "execution_count": null,
      "outputs": []
    },
    {
      "cell_type": "code",
      "source": [
        "#시각화\n",
        "x = df_sam_gu['시장/마트 이름']\n",
        "y = df_sam_gu['가격(원)']\n",
        "plt.scatter(x, y)\n",
        "plt.title(gu + ' 삼겹살 가격')\n",
        "plt.grid(True)"
      ],
      "metadata": {
        "id": "nGKvfOG6qeVW"
      },
      "execution_count": null,
      "outputs": []
    }
  ]
}